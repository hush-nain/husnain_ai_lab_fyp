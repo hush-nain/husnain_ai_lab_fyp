{
 "cells": [
  {
   "cell_type": "code",
   "execution_count": null,
   "id": "65375b7b",
   "metadata": {},
   "outputs": [
    {
     "name": "stdout",
     "output_type": "stream",
     "text": [
      "\n",
      "🎙️ Recording DroneA4_d00_h01.wav for 60 seconds...\n"
     ]
    }
   ],
   "source": [
    "import sounddevice as sd\n",
    "import soundfile as sf\n",
    "import os\n",
    "\n",
    "# === Settings === #\n",
    "duration = 60  # in seconds\n",
    "samplerate = 48000  # match UMIK-1's native rate\n",
    "channels = 1  # UMIK-1 supports 1 or 2 channels. Here we use 1 for mono\n",
    "device_index = 12\n",
    "output_folder = \"drone_recordings\"\n",
    "\n",
    "# Create folder if it doesn't exist\n",
    "os.makedirs(output_folder, exist_ok=True)\n",
    "\n",
    "# === Get metadata === #\n",
    "drone_name = input(\"Enter drone name (e.g., droneX): \").strip()\n",
    "distance = input(\"Enter distance in meters (e.g., 5): \").strip()\n",
    "altitude = input(\"Enter altitude in meters (e.g., 10): \").strip()\n",
    "\n",
    "# === Filename === #\n",
    "filename = f\"{drone_name}_d{distance}_h{altitude}.wav\"\n",
    "filepath = os.path.join(output_folder, filename)\n",
    "\n",
    "# === Record and Save === #\n",
    "print(f\"\\n🎙️ Recording {filename} for {duration} seconds...\")\n",
    "\n",
    "try:\n",
    "    audio = sd.rec(\n",
    "        int(duration * samplerate),\n",
    "        samplerate=samplerate,\n",
    "        channels=channels,  # Mono recording\n",
    "        dtype='float32',\n",
    "        device=device_index\n",
    "    )\n",
    "    sd.wait()\n",
    "\n",
    "    # Check if the audio data is empty (i.e., no recording)\n",
    "    if audio.size == 0:\n",
    "        print(\"❌ No audio data captured. Please ensure the microphone is connected and try again.\")\n",
    "    else:\n",
    "        # === Save Audio File === #\n",
    "        sf.write(filepath, audio, samplerate)\n",
    "        print(f\"✅ Recording saved at: {filepath}\")\n",
    "\n",
    "except Exception as e:\n",
    "    print(f\"❌ Error during recording: {e}\")"
   ]
  },
  {
   "cell_type": "code",
   "execution_count": 2,
   "id": "5856ed6f",
   "metadata": {},
   "outputs": [
    {
     "name": "stdout",
     "output_type": "stream",
     "text": [
      "Available input devices:\n",
      "0: Microsoft Sound Mapper - Input - Max input channels: 2\n",
      "1: Microphone (Umik-1  Gain: 18dB) - Max input channels: 2\n",
      "2: Microphone Array (Intel® Smart  - Max input channels: 3\n",
      "5: Primary Sound Capture Driver - Max input channels: 2\n",
      "6: Microphone (Umik-1  Gain: 18dB) - Max input channels: 2\n",
      "7: Microphone Array (Intel® Smart Sound Technology for Digital Microphones) - Max input channels: 3\n",
      "11: Microphone Array (Intel® Smart Sound Technology for Digital Microphones) - Max input channels: 1\n",
      "12: Microphone (Umik-1  Gain: 18dB) - Max input channels: 2\n",
      "13: Microphone Array 1 () - Max input channels: 1\n",
      "14: Microphone Array 2 () - Max input channels: 1\n",
      "15: Microphone Array 3 () - Max input channels: 3\n",
      "16: Microphone Array 4 () - Max input channels: 3\n",
      "17: Microphone (Realtek HD Audio Mic input) - Max input channels: 2\n",
      "18: Stereo Mix (Realtek HD Audio Stereo input) - Max input channels: 2\n",
      "21: PC Speaker (Realtek HD Audio 2nd output with SST) - Max input channels: 2\n",
      "24: PC Speaker (Realtek HD Audio output with SST) - Max input channels: 2\n",
      "25: Microphone 1 (Umik-1  Gain: 18dB) - Max input channels: 2\n",
      "26: Microphone 2 (Umik-1  Gain: 18dB) - Max input channels: 2\n"
     ]
    }
   ],
   "source": [
    "import sounddevice as sd\n",
    "\n",
    "# List all available devices and channels\n",
    "print(\"Available input devices:\")\n",
    "for idx, device in enumerate(sd.query_devices()):\n",
    "    if device['max_input_channels'] > 0:\n",
    "        print(f\"{idx}: {device['name']} - Max input channels: {device['max_input_channels']}\")\n"
   ]
  }
 ],
 "metadata": {
  "kernelspec": {
   "display_name": "myenv",
   "language": "python",
   "name": "python3"
  },
  "language_info": {
   "codemirror_mode": {
    "name": "ipython",
    "version": 3
   },
   "file_extension": ".py",
   "mimetype": "text/x-python",
   "name": "python",
   "nbconvert_exporter": "python",
   "pygments_lexer": "ipython3",
   "version": "3.12.6"
  }
 },
 "nbformat": 4,
 "nbformat_minor": 5
}
