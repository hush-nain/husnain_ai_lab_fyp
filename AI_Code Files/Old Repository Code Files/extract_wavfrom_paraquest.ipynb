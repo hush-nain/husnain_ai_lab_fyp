{
 "cells": [
  {
   "cell_type": "code",
   "execution_count": 4,
   "id": "a36a65b8",
   "metadata": {},
   "outputs": [
    {
     "name": "stdout",
     "output_type": "stream",
     "text": [
      "Found 39 parquet shards.\n"
     ]
    },
    {
     "name": "stderr",
     "output_type": "stream",
     "text": [
      "Shard 01/39: 100%|██████████| 4624/4624 [00:15<00:00, 292.99row/s] \n"
     ]
    },
    {
     "data": {
      "application/vnd.jupyter.widget-view+json": {
       "model_id": "eb8a36281bfa498c9d904bbb50708297",
       "version_major": 2,
       "version_minor": 0
      },
      "text/plain": [
       "Generating train split: 0 examples [00:00, ? examples/s]"
      ]
     },
     "metadata": {},
     "output_type": "display_data"
    },
    {
     "name": "stderr",
     "output_type": "stream",
     "text": [
      "Shard 02/39: 100%|██████████| 4624/4624 [00:19<00:00, 238.35row/s]\n"
     ]
    },
    {
     "data": {
      "application/vnd.jupyter.widget-view+json": {
       "model_id": "de10d27673074cb5bb165fbbd29840d2",
       "version_major": 2,
       "version_minor": 0
      },
      "text/plain": [
       "Generating train split: 0 examples [00:00, ? examples/s]"
      ]
     },
     "metadata": {},
     "output_type": "display_data"
    },
    {
     "name": "stderr",
     "output_type": "stream",
     "text": [
      "Shard 03/39: 100%|██████████| 4624/4624 [00:08<00:00, 561.64row/s]\n"
     ]
    },
    {
     "data": {
      "application/vnd.jupyter.widget-view+json": {
       "model_id": "97655a802ff64d4faea4651aad9e61cd",
       "version_major": 2,
       "version_minor": 0
      },
      "text/plain": [
       "Generating train split: 0 examples [00:00, ? examples/s]"
      ]
     },
     "metadata": {},
     "output_type": "display_data"
    },
    {
     "name": "stderr",
     "output_type": "stream",
     "text": [
      "Shard 04/39: 100%|██████████| 4624/4624 [00:10<00:00, 456.03row/s] \n"
     ]
    },
    {
     "data": {
      "application/vnd.jupyter.widget-view+json": {
       "model_id": "9721bbb335fe48e0b589eea96683377c",
       "version_major": 2,
       "version_minor": 0
      },
      "text/plain": [
       "Generating train split: 0 examples [00:00, ? examples/s]"
      ]
     },
     "metadata": {},
     "output_type": "display_data"
    },
    {
     "name": "stderr",
     "output_type": "stream",
     "text": [
      "Shard 05/39: 100%|██████████| 4624/4624 [00:03<00:00, 1412.32row/s]\n"
     ]
    },
    {
     "data": {
      "application/vnd.jupyter.widget-view+json": {
       "model_id": "935afc476b644e35a33323179455589d",
       "version_major": 2,
       "version_minor": 0
      },
      "text/plain": [
       "Generating train split: 0 examples [00:00, ? examples/s]"
      ]
     },
     "metadata": {},
     "output_type": "display_data"
    },
    {
     "name": "stderr",
     "output_type": "stream",
     "text": [
      "Shard 06/39: 100%|██████████| 4624/4624 [00:02<00:00, 1794.96row/s]\n"
     ]
    },
    {
     "data": {
      "application/vnd.jupyter.widget-view+json": {
       "model_id": "71d6886ba3384f078780842eb399105a",
       "version_major": 2,
       "version_minor": 0
      },
      "text/plain": [
       "Generating train split: 0 examples [00:00, ? examples/s]"
      ]
     },
     "metadata": {},
     "output_type": "display_data"
    },
    {
     "name": "stderr",
     "output_type": "stream",
     "text": [
      "Shard 07/39: 100%|██████████| 4624/4624 [00:03<00:00, 1539.94row/s]\n"
     ]
    },
    {
     "data": {
      "application/vnd.jupyter.widget-view+json": {
       "model_id": "258c64899b4343388a3402e072a68d24",
       "version_major": 2,
       "version_minor": 0
      },
      "text/plain": [
       "Generating train split: 0 examples [00:00, ? examples/s]"
      ]
     },
     "metadata": {},
     "output_type": "display_data"
    },
    {
     "name": "stderr",
     "output_type": "stream",
     "text": [
      "Shard 08/39: 100%|██████████| 4624/4624 [00:04<00:00, 925.68row/s] \n"
     ]
    },
    {
     "data": {
      "application/vnd.jupyter.widget-view+json": {
       "model_id": "b3f70463b60f487c98098b20572dba43",
       "version_major": 2,
       "version_minor": 0
      },
      "text/plain": [
       "Generating train split: 0 examples [00:00, ? examples/s]"
      ]
     },
     "metadata": {},
     "output_type": "display_data"
    },
    {
     "name": "stderr",
     "output_type": "stream",
     "text": [
      "Shard 09/39: 100%|██████████| 4624/4624 [00:02<00:00, 2082.37row/s]\n"
     ]
    },
    {
     "data": {
      "application/vnd.jupyter.widget-view+json": {
       "model_id": "3b45bd77e4fd45f39146b99eb55c3a69",
       "version_major": 2,
       "version_minor": 0
      },
      "text/plain": [
       "Generating train split: 0 examples [00:00, ? examples/s]"
      ]
     },
     "metadata": {},
     "output_type": "display_data"
    },
    {
     "name": "stderr",
     "output_type": "stream",
     "text": [
      "Shard 10/39: 100%|██████████| 4624/4624 [00:02<00:00, 1571.63row/s]\n"
     ]
    },
    {
     "data": {
      "application/vnd.jupyter.widget-view+json": {
       "model_id": "bcdf8482cd9845429aecba560f1db9f1",
       "version_major": 2,
       "version_minor": 0
      },
      "text/plain": [
       "Generating train split: 0 examples [00:00, ? examples/s]"
      ]
     },
     "metadata": {},
     "output_type": "display_data"
    },
    {
     "name": "stderr",
     "output_type": "stream",
     "text": [
      "Shard 11/39: 100%|██████████| 4624/4624 [00:03<00:00, 1310.19row/s]\n"
     ]
    },
    {
     "data": {
      "application/vnd.jupyter.widget-view+json": {
       "model_id": "40e775b0a1034c89a00cfeeea5aecf6c",
       "version_major": 2,
       "version_minor": 0
      },
      "text/plain": [
       "Generating train split: 0 examples [00:00, ? examples/s]"
      ]
     },
     "metadata": {},
     "output_type": "display_data"
    },
    {
     "name": "stderr",
     "output_type": "stream",
     "text": [
      "Shard 12/39: 100%|██████████| 4624/4624 [00:02<00:00, 1869.53row/s]\n"
     ]
    },
    {
     "data": {
      "application/vnd.jupyter.widget-view+json": {
       "model_id": "e456bb7985e74053a8e504b551fddc81",
       "version_major": 2,
       "version_minor": 0
      },
      "text/plain": [
       "Generating train split: 0 examples [00:00, ? examples/s]"
      ]
     },
     "metadata": {},
     "output_type": "display_data"
    },
    {
     "name": "stderr",
     "output_type": "stream",
     "text": [
      "Shard 13/39: 100%|██████████| 4624/4624 [00:03<00:00, 1177.11row/s]\n"
     ]
    },
    {
     "data": {
      "application/vnd.jupyter.widget-view+json": {
       "model_id": "fd5f2dc5ce8a4fb9a8b160e97bf2fcfb",
       "version_major": 2,
       "version_minor": 0
      },
      "text/plain": [
       "Generating train split: 0 examples [00:00, ? examples/s]"
      ]
     },
     "metadata": {},
     "output_type": "display_data"
    },
    {
     "name": "stderr",
     "output_type": "stream",
     "text": [
      "Shard 14/39: 100%|██████████| 4624/4624 [00:03<00:00, 1403.59row/s]\n"
     ]
    },
    {
     "data": {
      "application/vnd.jupyter.widget-view+json": {
       "model_id": "c632b8ef3b84466a8a9f81f4149942c5",
       "version_major": 2,
       "version_minor": 0
      },
      "text/plain": [
       "Generating train split: 0 examples [00:00, ? examples/s]"
      ]
     },
     "metadata": {},
     "output_type": "display_data"
    },
    {
     "name": "stderr",
     "output_type": "stream",
     "text": [
      "Shard 15/39: 100%|██████████| 4624/4624 [00:02<00:00, 1610.28row/s]\n"
     ]
    },
    {
     "data": {
      "application/vnd.jupyter.widget-view+json": {
       "model_id": "4c942178860045d98631386aadf73923",
       "version_major": 2,
       "version_minor": 0
      },
      "text/plain": [
       "Generating train split: 0 examples [00:00, ? examples/s]"
      ]
     },
     "metadata": {},
     "output_type": "display_data"
    },
    {
     "name": "stderr",
     "output_type": "stream",
     "text": [
      "Shard 16/39: 100%|██████████| 4624/4624 [00:04<00:00, 1121.55row/s]\n"
     ]
    },
    {
     "data": {
      "application/vnd.jupyter.widget-view+json": {
       "model_id": "4401ae3754da406b891209c8d2046a5c",
       "version_major": 2,
       "version_minor": 0
      },
      "text/plain": [
       "Generating train split: 0 examples [00:00, ? examples/s]"
      ]
     },
     "metadata": {},
     "output_type": "display_data"
    },
    {
     "name": "stderr",
     "output_type": "stream",
     "text": [
      "Shard 17/39: 100%|██████████| 4624/4624 [00:06<00:00, 690.83row/s] \n"
     ]
    },
    {
     "data": {
      "application/vnd.jupyter.widget-view+json": {
       "model_id": "adac666d0bfc44379132746e1728863e",
       "version_major": 2,
       "version_minor": 0
      },
      "text/plain": [
       "Generating train split: 0 examples [00:00, ? examples/s]"
      ]
     },
     "metadata": {},
     "output_type": "display_data"
    },
    {
     "name": "stderr",
     "output_type": "stream",
     "text": [
      "Shard 18/39: 100%|██████████| 4624/4624 [00:04<00:00, 948.23row/s] \n"
     ]
    },
    {
     "data": {
      "application/vnd.jupyter.widget-view+json": {
       "model_id": "04d950b15f7b408487fb732ded86e628",
       "version_major": 2,
       "version_minor": 0
      },
      "text/plain": [
       "Generating train split: 0 examples [00:00, ? examples/s]"
      ]
     },
     "metadata": {},
     "output_type": "display_data"
    },
    {
     "name": "stderr",
     "output_type": "stream",
     "text": [
      "Shard 19/39: 100%|██████████| 4624/4624 [00:02<00:00, 1700.86row/s]\n"
     ]
    },
    {
     "data": {
      "application/vnd.jupyter.widget-view+json": {
       "model_id": "c5fc5e4c36364ff2bba8a3e41d8bec2d",
       "version_major": 2,
       "version_minor": 0
      },
      "text/plain": [
       "Generating train split: 0 examples [00:00, ? examples/s]"
      ]
     },
     "metadata": {},
     "output_type": "display_data"
    },
    {
     "name": "stderr",
     "output_type": "stream",
     "text": [
      "Shard 20/39: 100%|██████████| 4624/4624 [00:01<00:00, 2956.30row/s]\n"
     ]
    },
    {
     "data": {
      "application/vnd.jupyter.widget-view+json": {
       "model_id": "1856fff1da004858a366c2ae0ff20bbe",
       "version_major": 2,
       "version_minor": 0
      },
      "text/plain": [
       "Generating train split: 0 examples [00:00, ? examples/s]"
      ]
     },
     "metadata": {},
     "output_type": "display_data"
    },
    {
     "name": "stderr",
     "output_type": "stream",
     "text": [
      "Shard 21/39: 100%|██████████| 4624/4624 [00:02<00:00, 1771.34row/s]\n"
     ]
    },
    {
     "data": {
      "application/vnd.jupyter.widget-view+json": {
       "model_id": "e4d565596aa7461ca46fc6219312bf64",
       "version_major": 2,
       "version_minor": 0
      },
      "text/plain": [
       "Generating train split: 0 examples [00:00, ? examples/s]"
      ]
     },
     "metadata": {},
     "output_type": "display_data"
    },
    {
     "name": "stderr",
     "output_type": "stream",
     "text": [
      "Shard 22/39: 100%|██████████| 4624/4624 [00:02<00:00, 2080.64row/s]\n"
     ]
    },
    {
     "data": {
      "application/vnd.jupyter.widget-view+json": {
       "model_id": "2c08cbbe132f4c22bc8945d9b03c12fe",
       "version_major": 2,
       "version_minor": 0
      },
      "text/plain": [
       "Generating train split: 0 examples [00:00, ? examples/s]"
      ]
     },
     "metadata": {},
     "output_type": "display_data"
    },
    {
     "name": "stderr",
     "output_type": "stream",
     "text": [
      "Shard 23/39: 100%|██████████| 4624/4624 [00:01<00:00, 2885.32row/s]\n"
     ]
    },
    {
     "data": {
      "application/vnd.jupyter.widget-view+json": {
       "model_id": "c670f1d688d8437a8ea74d24efbbc5c3",
       "version_major": 2,
       "version_minor": 0
      },
      "text/plain": [
       "Generating train split: 0 examples [00:00, ? examples/s]"
      ]
     },
     "metadata": {},
     "output_type": "display_data"
    },
    {
     "name": "stderr",
     "output_type": "stream",
     "text": [
      "Shard 24/39: 100%|██████████| 4623/4623 [00:03<00:00, 1276.43row/s]\n"
     ]
    },
    {
     "data": {
      "application/vnd.jupyter.widget-view+json": {
       "model_id": "3eb24e33feea48dfba6d2052c60ead9f",
       "version_major": 2,
       "version_minor": 0
      },
      "text/plain": [
       "Generating train split: 0 examples [00:00, ? examples/s]"
      ]
     },
     "metadata": {},
     "output_type": "display_data"
    },
    {
     "name": "stderr",
     "output_type": "stream",
     "text": [
      "Shard 25/39: 100%|██████████| 4623/4623 [00:03<00:00, 1477.67row/s]\n"
     ]
    },
    {
     "data": {
      "application/vnd.jupyter.widget-view+json": {
       "model_id": "9eadabd6d022483fa65fec3d840e62ca",
       "version_major": 2,
       "version_minor": 0
      },
      "text/plain": [
       "Generating train split: 0 examples [00:00, ? examples/s]"
      ]
     },
     "metadata": {},
     "output_type": "display_data"
    },
    {
     "name": "stderr",
     "output_type": "stream",
     "text": [
      "Shard 26/39: 100%|██████████| 4623/4623 [00:02<00:00, 2080.03row/s]\n"
     ]
    },
    {
     "data": {
      "application/vnd.jupyter.widget-view+json": {
       "model_id": "91014719fd704ff486a6d8c2589b7502",
       "version_major": 2,
       "version_minor": 0
      },
      "text/plain": [
       "Generating train split: 0 examples [00:00, ? examples/s]"
      ]
     },
     "metadata": {},
     "output_type": "display_data"
    },
    {
     "name": "stderr",
     "output_type": "stream",
     "text": [
      "Shard 27/39: 100%|██████████| 4623/4623 [00:02<00:00, 1558.48row/s]\n"
     ]
    },
    {
     "data": {
      "application/vnd.jupyter.widget-view+json": {
       "model_id": "bb5eda3c2ae34057aa3c3f4c65399163",
       "version_major": 2,
       "version_minor": 0
      },
      "text/plain": [
       "Generating train split: 0 examples [00:00, ? examples/s]"
      ]
     },
     "metadata": {},
     "output_type": "display_data"
    },
    {
     "name": "stderr",
     "output_type": "stream",
     "text": [
      "Shard 28/39: 100%|██████████| 4623/4623 [00:03<00:00, 1285.60row/s]\n"
     ]
    },
    {
     "data": {
      "application/vnd.jupyter.widget-view+json": {
       "model_id": "2836eaeee13b4792a65383c587130972",
       "version_major": 2,
       "version_minor": 0
      },
      "text/plain": [
       "Generating train split: 0 examples [00:00, ? examples/s]"
      ]
     },
     "metadata": {},
     "output_type": "display_data"
    },
    {
     "name": "stderr",
     "output_type": "stream",
     "text": [
      "Shard 29/39: 100%|██████████| 4623/4623 [00:03<00:00, 1170.28row/s]\n"
     ]
    },
    {
     "data": {
      "application/vnd.jupyter.widget-view+json": {
       "model_id": "d82eb607824f4212bddd1909e87106f5",
       "version_major": 2,
       "version_minor": 0
      },
      "text/plain": [
       "Generating train split: 0 examples [00:00, ? examples/s]"
      ]
     },
     "metadata": {},
     "output_type": "display_data"
    },
    {
     "name": "stderr",
     "output_type": "stream",
     "text": [
      "Shard 30/39: 100%|██████████| 4623/4623 [00:01<00:00, 2372.70row/s]\n"
     ]
    },
    {
     "data": {
      "application/vnd.jupyter.widget-view+json": {
       "model_id": "ec5b61aa274442cfaf6ea040c92c40e4",
       "version_major": 2,
       "version_minor": 0
      },
      "text/plain": [
       "Generating train split: 0 examples [00:00, ? examples/s]"
      ]
     },
     "metadata": {},
     "output_type": "display_data"
    },
    {
     "name": "stderr",
     "output_type": "stream",
     "text": [
      "Shard 31/39: 100%|██████████| 4623/4623 [00:04<00:00, 986.63row/s] \n"
     ]
    },
    {
     "data": {
      "application/vnd.jupyter.widget-view+json": {
       "model_id": "35892af8612f4f079cfd85b68a7d68c8",
       "version_major": 2,
       "version_minor": 0
      },
      "text/plain": [
       "Generating train split: 0 examples [00:00, ? examples/s]"
      ]
     },
     "metadata": {},
     "output_type": "display_data"
    },
    {
     "name": "stderr",
     "output_type": "stream",
     "text": [
      "Shard 32/39: 100%|██████████| 4623/4623 [00:03<00:00, 1279.23row/s]\n"
     ]
    },
    {
     "data": {
      "application/vnd.jupyter.widget-view+json": {
       "model_id": "ecc44539ac5e4a0696e65f86bc05f537",
       "version_major": 2,
       "version_minor": 0
      },
      "text/plain": [
       "Generating train split: 0 examples [00:00, ? examples/s]"
      ]
     },
     "metadata": {},
     "output_type": "display_data"
    },
    {
     "name": "stderr",
     "output_type": "stream",
     "text": [
      "Shard 33/39: 100%|██████████| 4623/4623 [00:03<00:00, 1538.09row/s]\n"
     ]
    },
    {
     "data": {
      "application/vnd.jupyter.widget-view+json": {
       "model_id": "ce67d70b56cc492da449793d324fd469",
       "version_major": 2,
       "version_minor": 0
      },
      "text/plain": [
       "Generating train split: 0 examples [00:00, ? examples/s]"
      ]
     },
     "metadata": {},
     "output_type": "display_data"
    },
    {
     "name": "stderr",
     "output_type": "stream",
     "text": [
      "Shard 34/39: 100%|██████████| 4623/4623 [00:02<00:00, 2158.33row/s]\n"
     ]
    },
    {
     "data": {
      "application/vnd.jupyter.widget-view+json": {
       "model_id": "d2bae7e9d22646c9822b1995d790861d",
       "version_major": 2,
       "version_minor": 0
      },
      "text/plain": [
       "Generating train split: 0 examples [00:00, ? examples/s]"
      ]
     },
     "metadata": {},
     "output_type": "display_data"
    },
    {
     "name": "stderr",
     "output_type": "stream",
     "text": [
      "Shard 35/39: 100%|██████████| 4623/4623 [00:02<00:00, 1650.59row/s]\n"
     ]
    },
    {
     "data": {
      "application/vnd.jupyter.widget-view+json": {
       "model_id": "4971aeba7e6945aea1492c2ff61b5902",
       "version_major": 2,
       "version_minor": 0
      },
      "text/plain": [
       "Generating train split: 0 examples [00:00, ? examples/s]"
      ]
     },
     "metadata": {},
     "output_type": "display_data"
    },
    {
     "name": "stderr",
     "output_type": "stream",
     "text": [
      "Shard 36/39: 100%|██████████| 4623/4623 [00:02<00:00, 1794.06row/s]\n"
     ]
    },
    {
     "data": {
      "application/vnd.jupyter.widget-view+json": {
       "model_id": "6ea125f54d8e44d9a500c9fb98fd3a16",
       "version_major": 2,
       "version_minor": 0
      },
      "text/plain": [
       "Generating train split: 0 examples [00:00, ? examples/s]"
      ]
     },
     "metadata": {},
     "output_type": "display_data"
    },
    {
     "name": "stderr",
     "output_type": "stream",
     "text": [
      "Shard 37/39: 100%|██████████| 4623/4623 [00:04<00:00, 1061.01row/s]\n"
     ]
    },
    {
     "data": {
      "application/vnd.jupyter.widget-view+json": {
       "model_id": "1f4f2588d6b4471bb26e71fc76fc5e24",
       "version_major": 2,
       "version_minor": 0
      },
      "text/plain": [
       "Generating train split: 0 examples [00:00, ? examples/s]"
      ]
     },
     "metadata": {},
     "output_type": "display_data"
    },
    {
     "name": "stderr",
     "output_type": "stream",
     "text": [
      "Shard 38/39: 100%|██████████| 4623/4623 [00:03<00:00, 1445.72row/s]\n"
     ]
    },
    {
     "data": {
      "application/vnd.jupyter.widget-view+json": {
       "model_id": "edab6cc7f5054d56a113f126cb234517",
       "version_major": 2,
       "version_minor": 0
      },
      "text/plain": [
       "Generating train split: 0 examples [00:00, ? examples/s]"
      ]
     },
     "metadata": {},
     "output_type": "display_data"
    },
    {
     "name": "stderr",
     "output_type": "stream",
     "text": [
      "Shard 39/39: 100%|██████████| 4623/4623 [00:02<00:00, 1627.63row/s]"
     ]
    },
    {
     "name": "stdout",
     "output_type": "stream",
     "text": [
      "Done. Exported 180320 WAV files into:\n",
      "- D:/FYP/Datasets/Drone Datasets/drone-audio-detection-samples hf/extracted_data\\drone\n",
      "- D:/FYP/Datasets/Drone Datasets/drone-audio-detection-samples hf/extracted_data\\nodrone\n"
     ]
    },
    {
     "name": "stderr",
     "output_type": "stream",
     "text": [
      "\n"
     ]
    }
   ],
   "source": [
    "# export_drone_wavs_bytes.py\n",
    "# Write WAVs straight from Parquet without using torchcodec.\n",
    "import os, glob\n",
    "from datasets import load_dataset, Audio\n",
    "from tqdm import tqdm\n",
    "\n",
    "# ---- paths ----\n",
    "DATASET_PATH = r\"D:/FYP/Datasets/Drone Datasets/drone-audio-detection-samples hf/data\"\n",
    "OUTPUT_ROOT  = r\"D:/FYP/Datasets/Drone Datasets/drone-audio-detection-samples hf/extracted_data\"\n",
    "# ---------------\n",
    "\n",
    "os.makedirs(OUTPUT_ROOT, exist_ok=True)\n",
    "out_drone   = os.path.join(OUTPUT_ROOT, \"drone\")\n",
    "out_nodrone = os.path.join(OUTPUT_ROOT, \"nodrone\")\n",
    "os.makedirs(out_drone, exist_ok=True)\n",
    "os.makedirs(out_nodrone, exist_ok=True)\n",
    "\n",
    "# Find all parquet shards\n",
    "parquet_files = sorted(glob.glob(os.path.join(DATASET_PATH, \"**\", \"*.parquet\"), recursive=True))\n",
    "if not parquet_files:\n",
    "    raise SystemExit(f\"No .parquet files found under: {DATASET_PATH}\")\n",
    "print(f\"Found {len(parquet_files)} parquet shards.\")\n",
    "\n",
    "total_exported = 0\n",
    "\n",
    "for shard_idx, parquet_path in enumerate(parquet_files):\n",
    "    # Load one shard; IMPORTANT: decode=False to avoid audio backend entirely\n",
    "    ds = load_dataset(\"parquet\", data_files=parquet_path, split=\"train\")\n",
    "    ds = ds.cast_column(\"audio\", Audio(decode=False))\n",
    "\n",
    "    pbar = tqdm(ds, desc=f\"Shard {shard_idx+1:02d}/{len(parquet_files)}\", unit=\"row\")\n",
    "    for row_idx, row in enumerate(pbar):\n",
    "        try:\n",
    "            audio = row[\"audio\"]      # dict with possibly 'bytes' and/or 'path'\n",
    "            label = row[\"label\"]      # 0 = no-drone, 1 = drone\n",
    "\n",
    "            # Where to save\n",
    "            if label == 1:\n",
    "                out_dir = out_drone\n",
    "                prefix = \"drone\"\n",
    "            else:\n",
    "                out_dir = out_nodrone\n",
    "                prefix = \"nodrone\"\n",
    "\n",
    "            fname = f\"{prefix}_shard{shard_idx:02d}_idx{row_idx:06d}.wav\"\n",
    "            fpath = os.path.join(out_dir, fname)\n",
    "\n",
    "            # Skip if already written (safe resume)\n",
    "            if os.path.exists(fpath):\n",
    "                continue\n",
    "\n",
    "            # Prefer raw bytes (fast, no decoding backend needed)\n",
    "            if isinstance(audio, dict) and audio.get(\"bytes\") is not None:\n",
    "                with open(fpath, \"wb\") as f:\n",
    "                    f.write(audio[\"bytes\"])\n",
    "                total_exported += 1\n",
    "                continue\n",
    "\n",
    "            # If HF stored a temp file path, copy it\n",
    "            if isinstance(audio, dict) and audio.get(\"path\"):\n",
    "                # Fall back to copying the file contents\n",
    "                with open(audio[\"path\"], \"rb\") as src, open(fpath, \"wb\") as dst:\n",
    "                    dst.write(src.read())\n",
    "                total_exported += 1\n",
    "                continue\n",
    "\n",
    "            # If neither bytes nor path, log and continue\n",
    "            pbar.write(f\"Row {row_idx}: no 'bytes' or 'path' in audio; skipping.\")\n",
    "        except Exception as e:\n",
    "            pbar.write(f\"Skipping row {row_idx} in shard {shard_idx}: {e}\")\n",
    "\n",
    "print(f\"Done. Exported {total_exported} WAV files into:\\n- {out_drone}\\n- {out_nodrone}\")\n"
   ]
  },
  {
   "cell_type": "code",
   "execution_count": null,
   "id": "68283ff9",
   "metadata": {},
   "outputs": [],
   "source": []
  }
 ],
 "metadata": {
  "kernelspec": {
   "display_name": "myenv",
   "language": "python",
   "name": "python3"
  },
  "language_info": {
   "codemirror_mode": {
    "name": "ipython",
    "version": 3
   },
   "file_extension": ".py",
   "mimetype": "text/x-python",
   "name": "python",
   "nbconvert_exporter": "python",
   "pygments_lexer": "ipython3",
   "version": "3.12.6"
  }
 },
 "nbformat": 4,
 "nbformat_minor": 5
}
