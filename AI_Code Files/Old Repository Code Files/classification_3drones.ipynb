{
 "cells": [
  {
   "cell_type": "code",
   "execution_count": 3,
   "id": "23c3372b",
   "metadata": {},
   "outputs": [],
   "source": [
    "import os\n",
    "import numpy as np\n",
    "import librosa\n",
    "import librosa.display\n",
    "import matplotlib.pyplot as plt\n",
    "from sklearn.model_selection import train_test_split\n",
    "from sklearn.preprocessing import LabelEncoder, StandardScaler\n",
    "from sklearn.svm import SVC\n",
    "from sklearn.metrics import confusion_matrix, ConfusionMatrixDisplay\n",
    "import tensorflow as tf\n",
    "import scipy as sp\n",
    "import IPython.display as ipd\n",
    "from tensorflow.keras.utils import to_categorical\n",
    "from tensorflow.keras.models import Sequential, Model\n",
    "from tensorflow.keras.layers import (\n",
    "    Dense,\n",
    "    Conv2D,\n",
    "    MaxPooling2D,\n",
    "    Flatten,\n",
    "    Dropout,\n",
    "    LSTM,\n",
    "    TimeDistributed,\n",
    "    Reshape,\n",
    "    Input,\n",
    ")\n",
    "from tensorflow.keras.optimizers import Adam\n"
   ]
  },
  {
   "cell_type": "code",
   "execution_count": 4,
   "id": "10c6028b",
   "metadata": {},
   "outputs": [],
   "source": [
    "# Step 1: Dataset Paths\n",
    "MEMBO_PATH = \"D:/FYP/Datasets/Github Sourced/DroneAudioDataset-master/DroneAudioDataset-master/Multiclass_Drone_Audio/membo_1\"  # Folder for Membo drone\n",
    "BEBOP_PATH = \"D:/FYP/Datasets/Github Sourced/DroneAudioDataset-master/DroneAudioDataset-master/Multiclass_Drone_Audio/bebop_1\"  # Folder for Bebop drone\n",
    "NOISE_PATH = \"D:/FYP/Datasets/Github Sourced/DroneAudioDataset-master/DroneAudioDataset-master/Multiclass_Drone_Audio/unknown\"  # Folder for random noise\n",
    "DroneA_PATH = \"D:/FYP/Final Project/SegmentedAudio\""
   ]
  },
  {
   "cell_type": "code",
   "execution_count": 5,
   "id": "e148cf1f",
   "metadata": {},
   "outputs": [],
   "source": [
    "# Step 2: Helper Functions\n",
    "def load_audio_files(folder_path, label):\n",
    "    \"\"\"Load audio files and associate each with a label.\"\"\"\n",
    "    data = []\n",
    "    for file_name in os.listdir(folder_path):\n",
    "        if file_name.endswith(\".wav\"):\n",
    "            file_path = os.path.join(folder_path, file_name)\n",
    "            signal, sr = librosa.load(\n",
    "                file_path, sr=16000\n",
    "            )  # Load with fixed sampling rate\n",
    "            data.append((signal, label))\n",
    "    return data\n",
    "\n",
    "\n",
    "# Load datasets\n",
    "membo_data = load_audio_files(MEMBO_PATH, \"membo\")\n",
    "bebop_data = load_audio_files(BEBOP_PATH, \"bebop\")\n",
    "noise_data = load_audio_files(NOISE_PATH, \"noise\")\n",
    "droneA_data = load_audio_files(DroneA_PATH, \"droneA\")"
   ]
  },
  {
   "cell_type": "code",
   "execution_count": 6,
   "id": "a1be83b4",
   "metadata": {},
   "outputs": [
    {
     "name": "stderr",
     "output_type": "stream",
     "text": [
      "d:\\FYP\\Final Project\\myenv\\Lib\\site-packages\\librosa\\core\\spectrum.py:266: UserWarning: n_fft=2048 is too large for input signal of length=24\n",
      "  warnings.warn(\n",
      "d:\\FYP\\Final Project\\myenv\\Lib\\site-packages\\librosa\\core\\spectrum.py:266: UserWarning: n_fft=2048 is too large for input signal of length=1266\n",
      "  warnings.warn(\n"
     ]
    }
   ],
   "source": [
    "# Combine and shuffle data\n",
    "data = membo_data + bebop_data + noise_data + droneA_data\n",
    "np.random.shuffle(data)\n",
    "\n",
    "\n",
    "# Step 3: Feature Extraction\n",
    "def extract_features(signal, sr=16000, n_mfcc=13):\n",
    "    mfccs = librosa.feature.mfcc(y=signal, sr=sr, n_mfcc=n_mfcc)\n",
    "    return mfccs.mean(axis=1)  # Averaging over time for traditional ML models\n",
    "\n",
    "\n",
    "features = []\n",
    "labels = []\n",
    "\n",
    "for signal, label in data:\n",
    "    mfcc_features = extract_features(signal)\n",
    "    features.append(mfcc_features)\n",
    "    labels.append(label)\n",
    "\n",
    "# Encode labels\n",
    "label_encoder = LabelEncoder()\n",
    "encoded_labels = label_encoder.fit_transform(labels)\n"
   ]
  },
  {
   "cell_type": "code",
   "execution_count": 7,
   "id": "6101f01b",
   "metadata": {},
   "outputs": [
    {
     "name": "stderr",
     "output_type": "stream",
     "text": [
      "d:\\FYP\\Final Project\\myenv\\Lib\\site-packages\\librosa\\core\\spectrum.py:266: UserWarning: n_fft=2048 is too large for input signal of length=24\n",
      "  warnings.warn(\n",
      "d:\\FYP\\Final Project\\myenv\\Lib\\site-packages\\librosa\\core\\spectrum.py:266: UserWarning: n_fft=2048 is too large for input signal of length=1266\n",
      "  warnings.warn(\n",
      "d:\\FYP\\Final Project\\myenv\\Lib\\site-packages\\keras\\src\\layers\\convolutional\\base_conv.py:107: UserWarning: Do not pass an `input_shape`/`input_dim` argument to a layer. When using Sequential models, prefer using an `Input(shape)` object as the first layer in the model instead.\n",
      "  super().__init__(activity_regularizer=activity_regularizer, **kwargs)\n"
     ]
    },
    {
     "name": "stdout",
     "output_type": "stream",
     "text": [
      "Epoch 1/20\n",
      "\u001b[1m301/301\u001b[0m \u001b[32m━━━━━━━━━━━━━━━━━━━━\u001b[0m\u001b[37m\u001b[0m \u001b[1m12s\u001b[0m 16ms/step - accuracy: 0.8376 - loss: 1.8194 - val_accuracy: 0.9348 - val_loss: 0.2370\n",
      "Epoch 2/20\n",
      "\u001b[1m301/301\u001b[0m \u001b[32m━━━━━━━━━━━━━━━━━━━━\u001b[0m\u001b[37m\u001b[0m \u001b[1m4s\u001b[0m 14ms/step - accuracy: 0.9262 - loss: 0.2269 - val_accuracy: 0.9501 - val_loss: 0.1691\n",
      "Epoch 3/20\n",
      "\u001b[1m301/301\u001b[0m \u001b[32m━━━━━━━━━━━━━━━━━━━━\u001b[0m\u001b[37m\u001b[0m \u001b[1m4s\u001b[0m 14ms/step - accuracy: 0.9455 - loss: 0.1685 - val_accuracy: 0.9572 - val_loss: 0.1104\n",
      "Epoch 4/20\n",
      "\u001b[1m301/301\u001b[0m \u001b[32m━━━━━━━━━━━━━━━━━━━━\u001b[0m\u001b[37m\u001b[0m \u001b[1m4s\u001b[0m 14ms/step - accuracy: 0.9589 - loss: 0.1229 - val_accuracy: 0.9668 - val_loss: 0.1171\n",
      "Epoch 5/20\n",
      "\u001b[1m301/301\u001b[0m \u001b[32m━━━━━━━━━━━━━━━━━━━━\u001b[0m\u001b[37m\u001b[0m \u001b[1m4s\u001b[0m 13ms/step - accuracy: 0.9649 - loss: 0.1075 - val_accuracy: 0.9639 - val_loss: 0.1033\n",
      "Epoch 6/20\n",
      "\u001b[1m301/301\u001b[0m \u001b[32m━━━━━━━━━━━━━━━━━━━━\u001b[0m\u001b[37m\u001b[0m \u001b[1m4s\u001b[0m 13ms/step - accuracy: 0.9709 - loss: 0.0900 - val_accuracy: 0.9801 - val_loss: 0.0546\n",
      "Epoch 7/20\n",
      "\u001b[1m301/301\u001b[0m \u001b[32m━━━━━━━━━━━━━━━━━━━━\u001b[0m\u001b[37m\u001b[0m \u001b[1m4s\u001b[0m 13ms/step - accuracy: 0.9714 - loss: 0.0815 - val_accuracy: 0.9838 - val_loss: 0.0516\n",
      "Epoch 8/20\n",
      "\u001b[1m301/301\u001b[0m \u001b[32m━━━━━━━━━━━━━━━━━━━━\u001b[0m\u001b[37m\u001b[0m \u001b[1m4s\u001b[0m 13ms/step - accuracy: 0.9713 - loss: 0.0786 - val_accuracy: 0.9813 - val_loss: 0.0557\n",
      "Epoch 9/20\n",
      "\u001b[1m301/301\u001b[0m \u001b[32m━━━━━━━━━━━━━━━━━━━━\u001b[0m\u001b[37m\u001b[0m \u001b[1m4s\u001b[0m 14ms/step - accuracy: 0.9767 - loss: 0.0691 - val_accuracy: 0.9780 - val_loss: 0.0585\n",
      "Epoch 10/20\n",
      "\u001b[1m301/301\u001b[0m \u001b[32m━━━━━━━━━━━━━━━━━━━━\u001b[0m\u001b[37m\u001b[0m \u001b[1m4s\u001b[0m 14ms/step - accuracy: 0.9803 - loss: 0.0618 - val_accuracy: 0.9813 - val_loss: 0.0576\n",
      "Epoch 11/20\n",
      "\u001b[1m301/301\u001b[0m \u001b[32m━━━━━━━━━━━━━━━━━━━━\u001b[0m\u001b[37m\u001b[0m \u001b[1m4s\u001b[0m 13ms/step - accuracy: 0.9764 - loss: 0.0765 - val_accuracy: 0.9817 - val_loss: 0.0669\n",
      "Epoch 12/20\n",
      "\u001b[1m301/301\u001b[0m \u001b[32m━━━━━━━━━━━━━━━━━━━━\u001b[0m\u001b[37m\u001b[0m \u001b[1m4s\u001b[0m 13ms/step - accuracy: 0.9791 - loss: 0.0607 - val_accuracy: 0.9817 - val_loss: 0.0526\n",
      "Epoch 13/20\n",
      "\u001b[1m301/301\u001b[0m \u001b[32m━━━━━━━━━━━━━━━━━━━━\u001b[0m\u001b[37m\u001b[0m \u001b[1m4s\u001b[0m 13ms/step - accuracy: 0.9831 - loss: 0.0525 - val_accuracy: 0.9801 - val_loss: 0.0515\n",
      "Epoch 14/20\n",
      "\u001b[1m301/301\u001b[0m \u001b[32m━━━━━━━━━━━━━━━━━━━━\u001b[0m\u001b[37m\u001b[0m \u001b[1m4s\u001b[0m 13ms/step - accuracy: 0.9795 - loss: 0.0671 - val_accuracy: 0.9838 - val_loss: 0.0487\n",
      "Epoch 15/20\n",
      "\u001b[1m301/301\u001b[0m \u001b[32m━━━━━━━━━━━━━━━━━━━━\u001b[0m\u001b[37m\u001b[0m \u001b[1m4s\u001b[0m 13ms/step - accuracy: 0.9864 - loss: 0.0410 - val_accuracy: 0.9846 - val_loss: 0.0450\n",
      "Epoch 16/20\n",
      "\u001b[1m301/301\u001b[0m \u001b[32m━━━━━━━━━━━━━━━━━━━━\u001b[0m\u001b[37m\u001b[0m \u001b[1m4s\u001b[0m 13ms/step - accuracy: 0.9834 - loss: 0.0448 - val_accuracy: 0.9830 - val_loss: 0.0510\n",
      "Epoch 17/20\n",
      "\u001b[1m301/301\u001b[0m \u001b[32m━━━━━━━━━━━━━━━━━━━━\u001b[0m\u001b[37m\u001b[0m \u001b[1m4s\u001b[0m 13ms/step - accuracy: 0.9855 - loss: 0.0485 - val_accuracy: 0.9801 - val_loss: 0.0514\n",
      "Epoch 18/20\n",
      "\u001b[1m301/301\u001b[0m \u001b[32m━━━━━━━━━━━━━━━━━━━━\u001b[0m\u001b[37m\u001b[0m \u001b[1m4s\u001b[0m 13ms/step - accuracy: 0.9841 - loss: 0.0446 - val_accuracy: 0.9817 - val_loss: 0.0453\n",
      "Epoch 19/20\n",
      "\u001b[1m301/301\u001b[0m \u001b[32m━━━━━━━━━━━━━━━━━━━━\u001b[0m\u001b[37m\u001b[0m \u001b[1m4s\u001b[0m 14ms/step - accuracy: 0.9859 - loss: 0.0401 - val_accuracy: 0.9900 - val_loss: 0.0321\n",
      "Epoch 20/20\n",
      "\u001b[1m301/301\u001b[0m \u001b[32m━━━━━━━━━━━━━━━━━━━━\u001b[0m\u001b[37m\u001b[0m \u001b[1m4s\u001b[0m 14ms/step - accuracy: 0.9827 - loss: 0.0454 - val_accuracy: 0.9826 - val_loss: 0.0513\n",
      "\u001b[1m76/76\u001b[0m \u001b[32m━━━━━━━━━━━━━━━━━━━━\u001b[0m\u001b[37m\u001b[0m \u001b[1m1s\u001b[0m 6ms/step - accuracy: 0.9814 - loss: 0.0527\n",
      "CNN Test Accuracy: 0.9825509190559387\n"
     ]
    }
   ],
   "source": [
    "# Step 5: CNN Model for Audio Spectrograms\n",
    "def prepare_cnn_data():\n",
    "    cnn_features = []\n",
    "    cnn_labels = []\n",
    "    max_mfcc_length = 40  # Ensure all MFCC arrays have the same time dimension\n",
    "    \n",
    "    for signal, label in data:\n",
    "        # Extract MFCC features\n",
    "        mfcc_features = librosa.feature.mfcc(y=signal, sr=16000, n_mfcc=13)\n",
    "        \n",
    "        # Pad or truncate the features to the fixed length\n",
    "        if mfcc_features.shape[1] < max_mfcc_length:\n",
    "            # Pad if shorter\n",
    "            padding = max_mfcc_length - mfcc_features.shape[1]\n",
    "            mfcc_features = np.pad(mfcc_features, ((0, 0), (0, padding)), mode='constant')\n",
    "        else:\n",
    "            # Truncate if longer\n",
    "            mfcc_features = mfcc_features[:, :max_mfcc_length]\n",
    "        \n",
    "        # Expand dimensions for CNN input\n",
    "        cnn_features.append(np.expand_dims(mfcc_features, axis=-1))\n",
    "        cnn_labels.append(label)\n",
    "        \n",
    "    return np.array(cnn_features), to_categorical(label_encoder.transform(cnn_labels))\n",
    "\n",
    "\n",
    "cnn_features, cnn_labels = prepare_cnn_data()\n",
    "X_train, X_test, y_train, y_test = train_test_split(\n",
    "    cnn_features, cnn_labels, test_size=0.2, random_state=42\n",
    ")\n",
    "\n",
    "cnn_model = Sequential(\n",
    "    [\n",
    "        Conv2D(\n",
    "            32,\n",
    "            (3, 3),\n",
    "            activation=\"relu\",\n",
    "            input_shape=(cnn_features.shape[1], cnn_features.shape[2], 1),\n",
    "        ),\n",
    "        MaxPooling2D((2, 2)),\n",
    "        Dropout(0.3),\n",
    "        Conv2D(64, (3, 3), activation=\"relu\"),\n",
    "        MaxPooling2D((2, 2)),\n",
    "        Dropout(0.3),\n",
    "        Flatten(),\n",
    "        Dense(128, activation=\"relu\"),\n",
    "        Dropout(0.3),\n",
    "        Dense(len(label_encoder.classes_), activation=\"softmax\"),\n",
    "    ]\n",
    ")\n",
    "\n",
    "cnn_model.compile(\n",
    "    optimizer=Adam(), loss=\"categorical_crossentropy\", metrics=[\"accuracy\"]\n",
    ")\n",
    "cnn_model.fit(\n",
    "    X_train, y_train, epochs=20, batch_size=32, validation_data=(X_test, y_test)\n",
    ")\n",
    "loss, accuracy = cnn_model.evaluate(X_test, y_test)\n",
    "print(f\"CNN Test Accuracy: {accuracy}\")\n"
   ]
  },
  {
   "cell_type": "code",
   "execution_count": 8,
   "id": "81f9bf28",
   "metadata": {},
   "outputs": [
    {
     "name": "stdout",
     "output_type": "stream",
     "text": [
      "\u001b[1m76/76\u001b[0m \u001b[32m━━━━━━━━━━━━━━━━━━━━\u001b[0m\u001b[37m\u001b[0m \u001b[1m1s\u001b[0m 6ms/step\n"
     ]
    },
    {
     "data": {
      "image/png": "[encoded data removed]",
      "text/plain": [
       "<Figure size 640x480 with 2 Axes>"
      ]
     },
     "metadata": {},
     "output_type": "display_data"
    }
   ],
   "source": [
    "# Step 1: Make predictions on the test set\n",
    "y_pred_probs = cnn_model.predict(X_test)\n",
    "y_pred_classes = np.argmax(y_pred_probs, axis=1)\n",
    "y_true_classes = np.argmax(y_test, axis=1)\n",
    "\n",
    "# Step 2: Compute the confusion matrix\n",
    "cm = confusion_matrix(y_true_classes, y_pred_classes)\n",
    "labels = label_encoder.classes_\n",
    "\n",
    "# Step 3: Display the confusion matrix\n",
    "disp = ConfusionMatrixDisplay(confusion_matrix=cm, display_labels=labels)\n",
    "disp.plot(cmap=\"Blues\", xticks_rotation=45)\n",
    "plt.title(\"Confusion Matrix - CNN Model\")\n",
    "plt.tight_layout()\n",
    "plt.show()"
   ]
  },
  {
   "cell_type": "code",
   "execution_count": 9,
   "id": "b202999e",
   "metadata": {},
   "outputs": [
    {
     "name": "stdout",
     "output_type": "stream",
     "text": [
      "\u001b[1m76/76\u001b[0m \u001b[32m━━━━━━━━━━━━━━━━━━━━\u001b[0m\u001b[37m\u001b[0m \u001b[1m1s\u001b[0m 7ms/step\n",
      "📊 Classification Report:\n",
      "              precision    recall  f1-score   support\n",
      "\n",
      "       bebop       0.95      0.99      0.97       136\n",
      "      droneA       0.68      0.97      0.80        59\n",
      "       membo       0.97      0.93      0.95       134\n",
      "       noise       1.00      0.99      0.99      2078\n",
      "\n",
      "    accuracy                           0.98      2407\n",
      "   macro avg       0.90      0.97      0.93      2407\n",
      "weighted avg       0.99      0.98      0.98      2407\n",
      "\n"
     ]
    }
   ],
   "source": [
    "from sklearn.metrics import classification_report\n",
    "import numpy as np\n",
    "\n",
    "# Step 1: Get predicted class indices\n",
    "y_pred_probs = cnn_model.predict(X_test)\n",
    "y_pred_classes = np.argmax(y_pred_probs, axis=1)\n",
    "\n",
    "# Step 2: Get true class indices\n",
    "y_true_classes = np.argmax(y_test, axis=1)\n",
    "\n",
    "# Step 3: Get class labels\n",
    "class_labels = label_encoder.classes_\n",
    "\n",
    "# Step 4: Print full classification report\n",
    "print(\"📊 Classification Report:\")\n",
    "print(classification_report(\n",
    "    y_true_classes,\n",
    "    y_pred_classes,\n",
    "    target_names=class_labels\n",
    "))\n"
   ]
  },
  {
   "cell_type": "code",
   "execution_count": 18,
   "id": "24994a73",
   "metadata": {},
   "outputs": [
    {
     "name": "stdout",
     "output_type": "stream",
     "text": [
      "\u001b[1m76/76\u001b[0m \u001b[32m━━━━━━━━━━━━━━━━━━━━\u001b[0m\u001b[37m\u001b[0m \u001b[1m0s\u001b[0m 4ms/step\n"
     ]
    },
    {
     "data": {
      "image/png": "[encoded data removed]",
      "text/plain": [
       "<Figure size 1000x600 with 1 Axes>"
      ]
     },
     "metadata": {},
     "output_type": "display_data"
    }
   ],
   "source": [
    "import numpy as np\n",
    "import matplotlib.pyplot as plt\n",
    "from sklearn.metrics import classification_report\n",
    "\n",
    "# Step 1: Predict\n",
    "y_pred_probs = cnn_model.predict(X_test)\n",
    "y_pred_classes = np.argmax(y_pred_probs, axis=1)\n",
    "y_true_classes = np.argmax(y_test, axis=1)\n",
    "class_labels = label_encoder.classes_\n",
    "\n",
    "# Step 2: Generate classification report\n",
    "report = classification_report(\n",
    "    y_true_classes,\n",
    "    y_pred_classes,\n",
    "    target_names=class_labels,\n",
    "    output_dict=True\n",
    ")\n",
    "\n",
    "# Step 3: Extract only F1-score and Recall\n",
    "metrics = [\"recall\", \"f1-score\"]\n",
    "data = {metric: [report[label][metric] for label in class_labels] for metric in metrics}\n",
    "x = np.arange(len(class_labels))  # Class positions\n",
    "\n",
    "# Aesthetics\n",
    "bar_width = 0.35\n",
    "colors = ['#55a868', '#4c72b0']  # Green for recall, blue for F1\n",
    "\n",
    "# Plot\n",
    "plt.figure(figsize=(10, 6))\n",
    "for i, metric in enumerate(metrics):\n",
    "    offset = (i - 0.5) * bar_width\n",
    "    plt.bar(\n",
    "        x + offset,\n",
    "        data[metric],\n",
    "        width=bar_width,\n",
    "        label=metric.capitalize(),\n",
    "        color=colors[i]\n",
    "    )\n",
    "    # Value labels\n",
    "    for xi, val in zip(x + offset, data[metric]):\n",
    "        plt.text(xi, val + 0.02, f\"{val:.2f}\", ha='center', va='bottom', fontsize=12)\n",
    "\n",
    "plt.xticks(x, class_labels,fontsize=12)\n",
    "plt.ylim(0, 1.05)\n",
    "plt.ylabel(\"Score\",fontsize=12)\n",
    "plt.title(\"Recall & F1-Score\", fontsize=14, weight='bold')\n",
    "plt.legend()\n",
    "plt.grid(axis='y', linestyle='--', alpha=0.6)\n",
    "plt.tight_layout()\n",
    "plt.show()\n"
   ]
  },
  {
   "cell_type": "code",
   "execution_count": 10,
   "id": "d94b4195",
   "metadata": {},
   "outputs": [
    {
     "name": "stderr",
     "output_type": "stream",
     "text": [
      "WARNING:absl:You are saving your model as an HDF5 file via `model.save()` or `keras.saving.save_model(model)`. This file format is considered legacy. We recommend using instead the native Keras format, e.g. `model.save('my_model.keras')` or `keras.saving.save_model(model, 'my_model.keras')`. \n"
     ]
    },
    {
     "data": {
      "text/plain": [
       "['label_encoder.pkl']"
      ]
     },
     "execution_count": 10,
     "metadata": {},
     "output_type": "execute_result"
    }
   ],
   "source": [
    "# after cnn_model.fit(...)\n",
    "cnn_model.save('cnn_model.h5')\n",
    "import joblib\n",
    "joblib.dump(label_encoder, 'label_encoder.pkl')\n"
   ]
  },
  {
   "cell_type": "code",
   "execution_count": 11,
   "id": "a5810359",
   "metadata": {},
   "outputs": [
    {
     "name": "stderr",
     "output_type": "stream",
     "text": [
      "WARNING:absl:Compiled the loaded model, but the compiled metrics have yet to be built. `model.compile_metrics` will be empty until you train or evaluate the model.\n"
     ]
    },
    {
     "name": "stdout",
     "output_type": "stream",
     "text": [
      "\n",
      "🎧 Starting stream on UMIK-1 (device index 12)...\n",
      "🛸 Listening for DroneA... (press Ctrl+C to stop)\n",
      "DroneA probability (avg): 0.039\n",
      "🛑 Stream stopped.\n"
     ]
    }
   ],
   "source": [
    "import queue\n",
    "import sounddevice as sd\n",
    "import numpy as np\n",
    "import librosa\n",
    "import joblib\n",
    "from tensorflow.keras.models import load_model\n",
    "from collections import deque\n",
    "\n",
    "# ───────── CONFIG ─────────\n",
    "MODEL_PATH = 'cnn_model.h5'\n",
    "LABEL_ENCODER_PATH = 'label_encoder.pkl'\n",
    "\n",
    "DEVICE_INDEX = 12        # UMIK-1 fixed device index\n",
    "UMIK_SR = 48000          # Mic sampling rate\n",
    "TARGET_SR = 16000        # Model training rate\n",
    "DURATION = 1.0           # Window length (seconds)\n",
    "STEP = 0.5               # Time between predictions (seconds)\n",
    "\n",
    "N_MFCC = 13\n",
    "N_FFT = 2048\n",
    "HOP_LENGTH = 512\n",
    "MAX_MFCC_LENGTH = 40     # Pad/truncate MFCC frames\n",
    "\n",
    "SMOOTHING_WINDOW = 5     # Rolling average over last N predictions\n",
    "ALERT_THRESHOLD = 0.7    # Alert threshold for DroneA detection\n",
    "# ─────────────────────────\n",
    "\n",
    "# Load model and label encoder\n",
    "model = load_model(MODEL_PATH)\n",
    "label_encoder = joblib.load(LABEL_ENCODER_PATH)\n",
    "classes = label_encoder.classes_\n",
    "drone_idx = list(classes).index('droneA')\n",
    "\n",
    "# Buffers\n",
    "audio_queue = queue.Queue()\n",
    "buffer = deque(maxlen=int(UMIK_SR * DURATION))\n",
    "p_history = deque(maxlen=SMOOTHING_WINDOW)\n",
    "alert_triggered = False\n",
    "\n",
    "# MFCC extraction\n",
    "def extract_mfcc_window(y, sr):\n",
    "    mfcc = librosa.feature.mfcc(y=y, sr=sr, n_mfcc=N_MFCC, n_fft=N_FFT, hop_length=HOP_LENGTH)\n",
    "    if mfcc.shape[1] < MAX_MFCC_LENGTH:\n",
    "        pad = MAX_MFCC_LENGTH - mfcc.shape[1]\n",
    "        mfcc = np.pad(mfcc, ((0, 0), (0, pad)), mode='constant')\n",
    "    else:\n",
    "        mfcc = mfcc[:, :MAX_MFCC_LENGTH]\n",
    "    return mfcc\n",
    "\n",
    "# Audio input callback\n",
    "def audio_callback(indata, frames, time, status):\n",
    "    if status:\n",
    "        print(\"⚠️\", status)\n",
    "    audio_queue.put(indata[:, 0].copy())\n",
    "\n",
    "# Main loop\n",
    "def main():\n",
    "    print(f\"\\n🎧 Starting stream on UMIK-1 (device index {DEVICE_INDEX})...\")\n",
    "    with sd.InputStream(\n",
    "        samplerate=UMIK_SR,\n",
    "        device=DEVICE_INDEX,\n",
    "        channels=1,\n",
    "        blocksize=int(UMIK_SR * STEP),\n",
    "        callback=audio_callback\n",
    "    ):\n",
    "        print(\"🛸 Listening for DroneA... (press Ctrl+C to stop)\")\n",
    "        try:\n",
    "            while True:\n",
    "                block = audio_queue.get()\n",
    "                buffer.extend(block)\n",
    "\n",
    "                if len(buffer) < UMIK_SR * DURATION:\n",
    "                    continue\n",
    "\n",
    "                y48 = np.array(buffer)\n",
    "                y16 = librosa.resample(y48, orig_sr=UMIK_SR, target_sr=TARGET_SR)\n",
    "                mfcc = extract_mfcc_window(y16, TARGET_SR)\n",
    "                X = mfcc[np.newaxis, :, :, np.newaxis]\n",
    "\n",
    "                probs = model.predict(X, verbose=0)[0]\n",
    "                p_drone = probs[drone_idx]\n",
    "                p_history.append(p_drone)\n",
    "\n",
    "                avg_p = np.mean(p_history)\n",
    "\n",
    "                if avg_p > ALERT_THRESHOLD and not alert_triggered:\n",
    "                    print(f\"\\n🚨 ALERT: DroneA detected! Avg Probability: {avg_p:.3f}\")\n",
    "                    alert_triggered = True\n",
    "                elif avg_p <= ALERT_THRESHOLD:\n",
    "                    alert_triggered = False\n",
    "\n",
    "                print(f\"DroneA probability (avg): {avg_p:.3f}\", end='\\r')\n",
    "\n",
    "        except KeyboardInterrupt:\n",
    "            print(\"\\n🛑 Stream stopped.\")\n",
    "\n",
    "if __name__ == '__main__':\n",
    "    main()\n"
   ]
  },
  {
   "cell_type": "code",
   "execution_count": null,
   "id": "7dc243d3",
   "metadata": {},
   "outputs": [],
   "source": []
  }
 ],
 "metadata": {
  "kernelspec": {
   "display_name": "myenv",
   "language": "python",
   "name": "python3"
  },
  "language_info": {
   "codemirror_mode": {
    "name": "ipython",
    "version": 3
   },
   "file_extension": ".py",
   "mimetype": "text/x-python",
   "name": "python",
   "nbconvert_exporter": "python",
   "pygments_lexer": "ipython3",
   "version": "3.12.6"
  }
 },
 "nbformat": 4,
 "nbformat_minor": 5
}
