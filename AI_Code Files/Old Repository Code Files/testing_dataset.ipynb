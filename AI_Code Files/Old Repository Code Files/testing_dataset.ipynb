{
 "cells": [
  {
   "cell_type": "code",
   "execution_count": 2,
   "id": "bbbfa312",
   "metadata": {},
   "outputs": [
    {
     "name": "stdout",
     "output_type": "stream",
     "text": [
      "Checking topics (capped at 300 msgs/topic):\n",
      " - /audio1/audio   -> empty (checked 300)\n",
      " - /audio2/audio   -> empty (checked 300)\n",
      " - /audio3/audio   -> empty (checked 300)\n",
      " - /audio4/audio   -> empty (checked 300)\n"
     ]
    }
   ],
   "source": [
    "# !pip install rosbags\n",
    "\n",
    "from pathlib import Path\n",
    "from itertools import islice\n",
    "from rosbags.highlevel import AnyReader\n",
    "\n",
    "BAG_PATH = Path(r\"D:\\FYP\\Datasets\\github multisensor\\Mavic2.bag\")\n",
    "AUDIO_TOPICS = [\"/audio1/audio\", \"/audio2/audio\", \"/audio3/audio\", \"/audio4/audio\"]\n",
    "MAX_MSGS_PER_TOPIC = 300  # peek only the first N messages\n",
    "\n",
    "def bytes_len(x):\n",
    "    if x is None: return 0\n",
    "    if isinstance(x, (bytes, bytearray)): return len(x)\n",
    "    if isinstance(x, (list, tuple)) and (not x or isinstance(x[0], int)): return len(x)\n",
    "    return 0\n",
    "\n",
    "def is_mp3_head(b: bytes) -> bool:\n",
    "    return b.startswith(b\"ID3\") or (len(b) >= 2 and b[0] == 0xFF and (b[1] & 0xE0) == 0xE0)\n",
    "\n",
    "with AnyReader([BAG_PATH]) as reader:\n",
    "    conns = {c.topic: c for c in reader.connections if c.topic in AUDIO_TOPICS}\n",
    "    if not conns:\n",
    "        print(\"None of the AUDIO_TOPICS are present in this bag.\")\n",
    "    else:\n",
    "        print(\"Checking topics (capped at\", MAX_MSGS_PER_TOPIC, \"msgs/topic):\")\n",
    "        for topic in AUDIO_TOPICS:\n",
    "            conn = conns.get(topic)\n",
    "            if conn is None:\n",
    "                print(f\" - {topic:<15} -> not in bag\")\n",
    "                continue\n",
    "\n",
    "            has_data, checked, head = False, 0, b\"\"\n",
    "            for _c, ts, raw in islice(reader.messages(connections=[conn]), MAX_MSGS_PER_TOPIC):\n",
    "                checked += 1\n",
    "                msg = reader.deserialize(raw, conn.msgtype)\n",
    "                d = getattr(msg, \"data\", None)\n",
    "                if bytes_len(d) > 0:\n",
    "                    b = d if isinstance(d, (bytes, bytearray)) else bytes(d)\n",
    "                    head = b[:16]\n",
    "                    has_data = True\n",
    "                    break\n",
    "\n",
    "            tag = \"HAS AUDIO\" if has_data else f\"empty (checked {checked})\"\n",
    "            hint = \" (mp3-like)\" if has_data and is_mp3_head(head) else \"\"\n",
    "            print(f\" - {topic:<15} -> {tag}{hint}\")\n"
   ]
  }
 ],
 "metadata": {
  "kernelspec": {
   "display_name": "myenv",
   "language": "python",
   "name": "python3"
  },
  "language_info": {
   "codemirror_mode": {
    "name": "ipython",
    "version": 3
   },
   "file_extension": ".py",
   "mimetype": "text/x-python",
   "name": "python",
   "nbconvert_exporter": "python",
   "pygments_lexer": "ipython3",
   "version": "3.12.6"
  }
 },
 "nbformat": 4,
 "nbformat_minor": 5
}
