{
 "cells": [
  {
   "cell_type": "code",
   "execution_count": 1,
   "id": "66998191",
   "metadata": {},
   "outputs": [
    {
     "name": "stdout",
     "output_type": "stream",
     "text": [
      "Segmentation completed.\n"
     ]
    }
   ],
   "source": [
    "import os\n",
    "import librosa\n",
    "import soundfile as sf\n",
    "\n",
    "# Parameters\n",
    "SAMPLE_RATE = 48000  # Hz\n",
    "SEGMENT_DURATION = 1  # seconds\n",
    "SEGMENT_SAMPLES = SAMPLE_RATE * SEGMENT_DURATION\n",
    "\n",
    "# Input folders\n",
    "folders = ['DroneA', 'DroneA45']  # assuming these are your folder names\n",
    "output_base = 'SegmentedAudio'\n",
    "\n",
    "# Create output directory\n",
    "os.makedirs(output_base, exist_ok=True)\n",
    "\n",
    "for folder in folders:\n",
    "    for file in os.listdir(folder):\n",
    "        if file.endswith('.wav'):\n",
    "            filepath = os.path.join(folder, file)\n",
    "            audio, sr = librosa.load(filepath, sr=SAMPLE_RATE)\n",
    "            \n",
    "            # Verify length\n",
    "            total_segments = len(audio) // SEGMENT_SAMPLES\n",
    "            \n",
    "            # Parse original filename\n",
    "            base_name = os.path.splitext(file)[0]\n",
    "            \n",
    "            # Create folder to store segments\n",
    "            segment_folder = os.path.join(output_base, base_name)\n",
    "            os.makedirs(segment_folder, exist_ok=True)\n",
    "            \n",
    "            for i in range(total_segments):\n",
    "                start = i * SEGMENT_SAMPLES\n",
    "                end = start + SEGMENT_SAMPLES\n",
    "                segment = audio[start:end]\n",
    "                \n",
    "                segment_filename = f\"{base_name}_seg{i+1}.wav\"\n",
    "                segment_path = os.path.join(segment_folder, segment_filename)\n",
    "                sf.write(segment_path, segment, SAMPLE_RATE)\n",
    "\n",
    "print(\"Segmentation completed.\")\n"
   ]
  },
  {
   "cell_type": "code",
   "execution_count": null,
   "id": "df523b26",
   "metadata": {},
   "outputs": [],
   "source": []
  }
 ],
 "metadata": {
  "kernelspec": {
   "display_name": "myenv",
   "language": "python",
   "name": "python3"
  },
  "language_info": {
   "codemirror_mode": {
    "name": "ipython",
    "version": 3
   },
   "file_extension": ".py",
   "mimetype": "text/x-python",
   "name": "python",
   "nbconvert_exporter": "python",
   "pygments_lexer": "ipython3",
   "version": "3.12.6"
  }
 },
 "nbformat": 4,
 "nbformat_minor": 5
}
