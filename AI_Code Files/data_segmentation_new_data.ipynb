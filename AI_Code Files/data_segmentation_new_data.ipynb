{
 "cells": [
  {
   "cell_type": "code",
   "execution_count": null,
   "id": "e851b0d0",
   "metadata": {},
   "outputs": [
    {
     "name": "stdout",
     "output_type": "stream",
     "text": [
      "✅ Segmentation complete. Files saved in: /home/destrox-907/Husnian_FYP/Dataset/AuDro_Dataset_Segmented\n"
     ]
    }
   ],
   "source": [
    "import os\n",
    "from pydub import AudioSegment\n",
    "\n",
    "# Input and Output folders\n",
    "input_folder = r\"/home/destrox-907/Husnian_FYP/Dataset/AuDro_Dataset\"\n",
    "output_folder = r\"/home/destrox-907/Husnian_FYP/Dataset/AuDro_Dataset_Segmented\"\n",
    "\n",
    "# Create output folder if it doesn't exist\n",
    "os.makedirs(output_folder, exist_ok=True)\n",
    "\n",
    "# Loop through each file in the input folder\n",
    "for filename in os.listdir(input_folder):\n",
    "    if filename.endswith(\".wav\"):\n",
    "        file_path = os.path.join(input_folder, filename)\n",
    "        audio = AudioSegment.from_wav(file_path)\n",
    "\n",
    "        duration_ms = len(audio)  # duration in milliseconds\n",
    "\n",
    "        if duration_ms <= 1000:\n",
    "            # Save file as it is\n",
    "            output_path = os.path.join(output_folder, filename)\n",
    "            audio.export(output_path, format=\"wav\")\n",
    "        else:\n",
    "            # Segment into 1 sec (1000 ms) chunks\n",
    "            for i in range(0, duration_ms, 1000):\n",
    "                segment = audio[i:i+1000]  # take 1 second\n",
    "                segment_name = f\"{os.path.splitext(filename)[0]}_part{i//1000 + 1}.wav\"\n",
    "                output_path = os.path.join(output_folder, segment_name)\n",
    "                segment.export(output_path, format=\"wav\")\n",
    "\n",
    "print(\"✅ Segmentation complete. Files saved in:\", output_folder)"
   ]
  },
  {
   "cell_type": "code",
   "execution_count": 1,
   "id": "54ae83d7",
   "metadata": {},
   "outputs": [
    {
     "name": "stdout",
     "output_type": "stream",
     "text": [
      "✅ Segmentation complete. Files saved in: /home/destrox-907/Husnian_FYP/Dataset/data_german/Renamed_Dresden-II-S-A_Segmented\n"
     ]
    }
   ],
   "source": [
    "import os\n",
    "from pydub import AudioSegment\n",
    "\n",
    "# Input and Output folders\n",
    "input_folder = r\"/home/destrox-907/Husnian_FYP/Dataset/data_german/Renamed_Dresden-II-S-A\"\n",
    "output_folder = r\"/home/destrox-907/Husnian_FYP/Dataset/data_german/Renamed_Dresden-II-S-A_Segmented\"\n",
    "\n",
    "# Create output folder if it doesn't exist\n",
    "os.makedirs(output_folder, exist_ok=True)\n",
    "\n",
    "# Loop through each file in the input folder\n",
    "for filename in os.listdir(input_folder):\n",
    "    if filename.endswith(\".wav\"):\n",
    "        file_path = os.path.join(input_folder, filename)\n",
    "        audio = AudioSegment.from_wav(file_path)\n",
    "\n",
    "        duration_ms = len(audio)  # duration in milliseconds\n",
    "\n",
    "        if duration_ms <= 1000:\n",
    "            # Save file as it is\n",
    "            output_path = os.path.join(output_folder, filename)\n",
    "            audio.export(output_path, format=\"wav\")\n",
    "        else:\n",
    "            # Segment into 1 sec (1000 ms) chunks\n",
    "            for i in range(0, duration_ms, 1000):\n",
    "                segment = audio[i:i+1000]  # take 1 second\n",
    "                segment_name = f\"{os.path.splitext(filename)[0]}_part{i//1000 + 1}.wav\"\n",
    "                output_path = os.path.join(output_folder, segment_name)\n",
    "                segment.export(output_path, format=\"wav\")\n",
    "\n",
    "print(\"✅ Segmentation complete. Files saved in:\", output_folder)"
   ]
  },
  {
   "cell_type": "code",
   "execution_count": 2,
   "id": "5044b70b",
   "metadata": {},
   "outputs": [
    {
     "name": "stdout",
     "output_type": "stream",
     "text": [
      "✅ Segmentation complete. Files saved in: /home/destrox-907/Husnian_FYP/Dataset/data_german/Renamed_Dresden-II-S-B_Segmented\n"
     ]
    }
   ],
   "source": [
    "import os\n",
    "from pydub import AudioSegment\n",
    "\n",
    "# Input and Output folders\n",
    "input_folder = r\"/home/destrox-907/Husnian_FYP/Dataset/data_german/Renamed_Dresden-II-S-B\"\n",
    "output_folder = r\"/home/destrox-907/Husnian_FYP/Dataset/data_german/Renamed_Dresden-II-S-B_Segmented\"\n",
    "\n",
    "# Create output folder if it doesn't exist\n",
    "os.makedirs(output_folder, exist_ok=True)\n",
    "\n",
    "# Loop through each file in the input folder\n",
    "for filename in os.listdir(input_folder):\n",
    "    if filename.endswith(\".wav\"):\n",
    "        file_path = os.path.join(input_folder, filename)\n",
    "        audio = AudioSegment.from_wav(file_path)\n",
    "\n",
    "        duration_ms = len(audio)  # duration in milliseconds\n",
    "\n",
    "        if duration_ms <= 1000:\n",
    "            # Save file as it is\n",
    "            output_path = os.path.join(output_folder, filename)\n",
    "            audio.export(output_path, format=\"wav\")\n",
    "        else:\n",
    "            # Segment into 1 sec (1000 ms) chunks\n",
    "            for i in range(0, duration_ms, 1000):\n",
    "                segment = audio[i:i+1000]  # take 1 second\n",
    "                segment_name = f\"{os.path.splitext(filename)[0]}_part{i//1000 + 1}.wav\"\n",
    "                output_path = os.path.join(output_folder, segment_name)\n",
    "                segment.export(output_path, format=\"wav\")\n",
    "\n",
    "print(\"✅ Segmentation complete. Files saved in:\", output_folder)"
   ]
  }
 ],
 "metadata": {
  "kernelspec": {
   "display_name": "base",
   "language": "python",
   "name": "python3"
  },
  "language_info": {
   "codemirror_mode": {
    "name": "ipython",
    "version": 3
   },
   "file_extension": ".py",
   "mimetype": "text/x-python",
   "name": "python",
   "nbconvert_exporter": "python",
   "pygments_lexer": "ipython3",
   "version": "3.11.8"
  }
 },
 "nbformat": 4,
 "nbformat_minor": 5
}
