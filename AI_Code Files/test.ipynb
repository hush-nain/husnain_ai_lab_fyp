{
 "cells": [
  {
   "cell_type": "code",
   "execution_count": 1,
   "id": "a16c04b3",
   "metadata": {},
   "outputs": [
    {
     "name": "stdout",
     "output_type": "stream",
     "text": [
      "\n",
      "=== Available Audio Devices ===\n",
      "   0 HDA NVidia: MSI G32C4X (hw:0,3), ALSA (0 in, 2 out)\n",
      "   1 HDA NVidia: HDMI 1 (hw:0,7), ALSA (0 in, 8 out)\n",
      "   2 HDA NVidia: HDMI 2 (hw:0,8), ALSA (0 in, 8 out)\n",
      "   3 HDA NVidia: HDMI 3 (hw:0,9), ALSA (0 in, 8 out)\n",
      "   4 HD Camera: USB Audio (hw:1,0), ALSA (2 in, 0 out)\n",
      "   5 HDA NVidia: HDMI 0 (hw:2,3), ALSA (0 in, 8 out)\n",
      "   6 HDA NVidia: HDMI 1 (hw:2,7), ALSA (0 in, 8 out)\n",
      "   7 HDA NVidia: HDMI 2 (hw:2,8), ALSA (0 in, 8 out)\n",
      "   8 HDA NVidia: HDMI 3 (hw:2,9), ALSA (0 in, 8 out)\n",
      "   9 HDA Intel PCH: ALC897 Analog (hw:3,0), ALSA (2 in, 2 out)\n",
      "  10 HDA Intel PCH: ALC897 Digital (hw:3,1), ALSA (0 in, 2 out)\n",
      "  11 HDA Intel PCH: ALC897 Alt Analog (hw:3,2), ALSA (2 in, 0 out)\n",
      "  12 HDA Intel PCH: HDMI 0 (hw:3,3), ALSA (0 in, 8 out)\n",
      "  13 HDA Intel PCH: HDMI 1 (hw:3,7), ALSA (0 in, 8 out)\n",
      "  14 HDA Intel PCH: HDMI 2 (hw:3,8), ALSA (0 in, 8 out)\n",
      "  15 HDA Intel PCH: HDMI 3 (hw:3,9), ALSA (0 in, 8 out)\n",
      "  16 Umik-1  Gain: 18dB: USB Audio (hw:4,0), ALSA (2 in, 0 out)\n",
      "  17 hdmi, ALSA (0 in, 2 out)\n",
      "  18 pipewire, ALSA (64 in, 64 out)\n",
      "* 19 default, ALSA (64 in, 64 out)\n",
      "\n",
      "=== Default Devices ===\n",
      "Default Input Device: 19\n",
      "Default Output Device: 19\n"
     ]
    }
   ],
   "source": [
    "import sounddevice as sd\n",
    "\n",
    "# List all available audio devices\n",
    "print(\"\\n=== Available Audio Devices ===\")\n",
    "print(sd.query_devices())\n",
    "\n",
    "# Show default input/output device\n",
    "print(\"\\n=== Default Devices ===\")\n",
    "print(\"Default Input Device:\", sd.default.device[0])\n",
    "print(\"Default Output Device:\", sd.default.device[1])\n"
   ]
  }
 ],
 "metadata": {
  "kernelspec": {
   "display_name": "base",
   "language": "python",
   "name": "python3"
  },
  "language_info": {
   "codemirror_mode": {
    "name": "ipython",
    "version": 3
   },
   "file_extension": ".py",
   "mimetype": "text/x-python",
   "name": "python",
   "nbconvert_exporter": "python",
   "pygments_lexer": "ipython3",
   "version": "3.11.8"
  }
 },
 "nbformat": 4,
 "nbformat_minor": 5
}
