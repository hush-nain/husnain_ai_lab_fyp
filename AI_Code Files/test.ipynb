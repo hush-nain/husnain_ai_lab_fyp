{
 "cells": [
  {
   "cell_type": "code",
   "execution_count": 2,
   "id": "633234b1",
   "metadata": {},
   "outputs": [
    {
     "name": "stdout",
     "output_type": "stream",
     "text": [
      "TensorFlow version: 2.20.0\n",
      "GPU devices: [PhysicalDevice(name='/physical_device:GPU:0', device_type='GPU'), PhysicalDevice(name='/physical_device:GPU:1', device_type='GPU')]\n"
     ]
    }
   ],
   "source": [
    "import tensorflow as tf\n",
    "\n",
    "print(\"TensorFlow version:\", tf.__version__)\n",
    "print(\"GPU devices:\", tf.config.list_physical_devices(\"GPU\"))\n"
   ]
  },
  {
   "cell_type": "code",
   "execution_count": 3,
   "id": "77e4aa9c",
   "metadata": {},
   "outputs": [
    {
     "name": "stdout",
     "output_type": "stream",
     "text": [
      "TensorFlow version: 2.20.0\n",
      "GPUs: [PhysicalDevice(name='/physical_device:GPU:0', device_type='GPU'), PhysicalDevice(name='/physical_device:GPU:1', device_type='GPU')]\n",
      "Matrix multiplication successful on GPU\n"
     ]
    },
    {
     "name": "stderr",
     "output_type": "stream",
     "text": [
      "WARNING: All log messages before absl::InitializeLog() is called are written to STDERR\n",
      "I0000 00:00:1757387504.301869    6777 gpu_device.cc:2020] Created device /job:localhost/replica:0/task:0/device:GPU:0 with 21755 MB memory:  -> device: 0, name: NVIDIA GeForce RTX 4090, pci bus id: 0000:01:00.0, compute capability: 8.9\n",
      "I0000 00:00:1757387504.303116    6777 gpu_device.cc:2020] Created device /job:localhost/replica:0/task:0/device:GPU:1 with 22148 MB memory:  -> device: 1, name: NVIDIA GeForce RTX 4090, pci bus id: 0000:05:00.0, compute capability: 8.9\n"
     ]
    }
   ],
   "source": [
    "import tensorflow as tf\n",
    "\n",
    "# Check TensorFlow version\n",
    "print(\"TensorFlow version:\", tf.__version__)\n",
    "\n",
    "# List GPUs\n",
    "gpus = tf.config.list_physical_devices('GPU')\n",
    "print(\"GPUs:\", gpus)\n",
    "\n",
    "# Test if TF can place operations on GPU\n",
    "with tf.device('/GPU:0'):\n",
    "    a = tf.random.normal([1000, 1000])\n",
    "    b = tf.random.normal([1000, 1000])\n",
    "    c = tf.matmul(a, b)\n",
    "\n",
    "print(\"Matrix multiplication successful on GPU\")\n"
   ]
  },
  {
   "cell_type": "code",
   "execution_count": 1,
   "id": "beb90d6e",
   "metadata": {},
   "outputs": [
    {
     "name": "stdout",
     "output_type": "stream",
     "text": [
      "\n",
      "Summary for /home/destrox-907/Husnian's FYP/Dataset/MFCC Drone Dataset/MFCC Drone Dataset:\n",
      " Total: 190462 | OK: 190462 | Corrupted: 0\n",
      "\n",
      "Summary for /home/destrox-907/Husnian's FYP/Dataset/MFCC Noise Dataset/MFCC Noise Dataset:\n",
      " Total: 123286 | OK: 123286 | Corrupted: 0\n",
      "\n",
      "Diagnostics complete ✅\n",
      "If there are corrupted files, they are listed in bad_files.txt\n"
     ]
    }
   ],
   "source": [
    "import os\n",
    "import numpy as np\n",
    "\n",
    "# Update with your dataset paths\n",
    "DRONE_ROOT   = r\"/home/destrox-907/Husnian's FYP/Dataset/MFCC Drone Dataset/MFCC Drone Dataset\"\n",
    "NODRONE_ROOT = r\"/home/destrox-907/Husnian's FYP/Dataset/MFCC Noise Dataset/MFCC Noise Dataset\"\n",
    "\n",
    "def check_npy_files(root_dir, log_file):\n",
    "    bad_files = []\n",
    "    total, ok, fail = 0, 0, 0\n",
    "\n",
    "    for r, _, files in os.walk(root_dir):\n",
    "        for f in files:\n",
    "            if f.lower().endswith(\".npy\"):\n",
    "                total += 1\n",
    "                path = os.path.join(r, f)\n",
    "                try:\n",
    "                    arr = np.load(path, allow_pickle=False)\n",
    "                    ok += 1\n",
    "                except Exception as e:\n",
    "                    print(f\"[CORRUPTED] {path} -> {e}\")\n",
    "                    bad_files.append(path)\n",
    "                    fail += 1\n",
    "    \n",
    "    print(f\"\\nSummary for {root_dir}:\")\n",
    "    print(f\" Total: {total} | OK: {ok} | Corrupted: {fail}\")\n",
    "\n",
    "    with open(log_file, \"a\") as f:\n",
    "        for bf in bad_files:\n",
    "            f.write(bf + \"\\n\")\n",
    "\n",
    "# Run checks\n",
    "if __name__ == \"__main__\":\n",
    "    log_file = \"bad_files.txt\"\n",
    "    if os.path.exists(log_file):\n",
    "        os.remove(log_file)\n",
    "\n",
    "    check_npy_files(DRONE_ROOT, log_file)\n",
    "    check_npy_files(NODRONE_ROOT, log_file)\n",
    "\n",
    "    print(\"\\nDiagnostics complete ✅\")\n",
    "    print(\"If there are corrupted files, they are listed in bad_files.txt\")\n"
   ]
  },
  {
   "cell_type": "code",
   "execution_count": 2,
   "id": "02c8f63c",
   "metadata": {},
   "outputs": [
    {
     "name": "stdout",
     "output_type": "stream",
     "text": [
      "✅ Saved extracted text to /home/destrox-907/Downloads/description.txt\n"
     ]
    }
   ],
   "source": [
    "from pathlib import Path\n",
    "import xml.etree.ElementTree as ET\n",
    "\n",
    "# Input / output\n",
    "xml_file = \"/home/destrox-907/Downloads/Offer_description.xml\"   # your input file\n",
    "txt_file = \"/home/destrox-907/Downloads/description.txt\"\n",
    "\n",
    "# Namespaces we need\n",
    "NS = {\"pkg\": \"http://schemas.microsoft.com/office/2006/xmlPackage\",\n",
    "      \"w\": \"http://schemas.openxmlformats.org/wordprocessingml/2006/main\"}\n",
    "\n",
    "# Parse the XML\n",
    "tree = ET.parse(xml_file)\n",
    "root = tree.getroot()\n",
    "\n",
    "# Find the /word/document.xml part\n",
    "doc_text = []\n",
    "for part in root.findall(\"pkg:part\", NS):\n",
    "    if part.get(\"{%s}name\" % NS[\"pkg\"]) == \"/word/document.xml\":\n",
    "        xmlData = part.find(\"pkg:xmlData\", NS)\n",
    "        if xmlData is not None:\n",
    "            document = xmlData.find(\"w:document\", NS)\n",
    "            if document is not None:\n",
    "                for para in document.findall(\".//w:p\", NS):\n",
    "                    texts = [t.text for t in para.findall(\".//w:t\", NS) if t.text]\n",
    "                    if texts:\n",
    "                        doc_text.append(\"\".join(texts))\n",
    "\n",
    "# Save to .txt\n",
    "Path(txt_file).write_text(\"\\n\".join(doc_text), encoding=\"utf-8\")\n",
    "print(f\"✅ Saved extracted text to {txt_file}\")\n"
   ]
  },
  {
   "cell_type": "code",
   "execution_count": null,
   "id": "b88a1bdd",
   "metadata": {},
   "outputs": [],
   "source": []
  },
  {
   "cell_type": "code",
   "execution_count": null,
   "id": "9eb4863f",
   "metadata": {},
   "outputs": [],
   "source": []
  }
 ],
 "metadata": {
  "kernelspec": {
   "display_name": ".venv",
   "language": "python",
   "name": "python3"
  },
  "language_info": {
   "codemirror_mode": {
    "name": "ipython",
    "version": 3
   },
   "file_extension": ".py",
   "mimetype": "text/x-python",
   "name": "python",
   "nbconvert_exporter": "python",
   "pygments_lexer": "ipython3",
   "version": "3.11.7"
  }
 },
 "nbformat": 4,
 "nbformat_minor": 5
}
