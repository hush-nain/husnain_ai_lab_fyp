{
 "cells": [
  {
   "cell_type": "code",
   "execution_count": 1,
   "id": "de0c1670",
   "metadata": {},
   "outputs": [
    {
     "name": "stderr",
     "output_type": "stream",
     "text": [
      "2025-09-11 08:15:34.448082: I tensorflow/core/util/port.cc:153] oneDNN custom operations are on. You may see slightly different numerical results due to floating-point round-off errors from different computation orders. To turn them off, set the environment variable `TF_ENABLE_ONEDNN_OPTS=0`.\n",
      "2025-09-11 08:15:34.647528: I tensorflow/core/platform/cpu_feature_guard.cc:210] This TensorFlow binary is optimized to use available CPU instructions in performance-critical operations.\n",
      "To enable the following instructions: AVX2 AVX_VNNI FMA, in other operations, rebuild TensorFlow with the appropriate compiler flags.\n",
      "2025-09-11 08:15:35.475878: I tensorflow/core/util/port.cc:153] oneDNN custom operations are on. You may see slightly different numerical results due to floating-point round-off errors from different computation orders. To turn them off, set the environment variable `TF_ENABLE_ONEDNN_OPTS=0`.\n"
     ]
    },
    {
     "name": "stdout",
     "output_type": "stream",
     "text": [
      "[INFO] Total files: 390897\n",
      "  - drone: 268268\n",
      "  - no_drone: 122629\n",
      "[INFO] Classes: [np.str_('drone'), np.str_('no_drone')]  (num_classes=2)\n",
      "[INFO] Train: 312717 | Test: 78180\n"
     ]
    }
   ],
   "source": [
    "import os\n",
    "import numpy as np\n",
    "import tensorflow as tf\n",
    "\n",
    "from sklearn.model_selection import train_test_split\n",
    "from sklearn.preprocessing import LabelEncoder, label_binarize\n",
    "from sklearn.metrics import (\n",
    "    confusion_matrix, ConfusionMatrixDisplay, classification_report,\n",
    "    accuracy_score, precision_score, recall_score, f1_score,\n",
    "    roc_auc_score, average_precision_score, precision_recall_curve, auc,\n",
    "    balanced_accuracy_score, matthews_corrcoef, cohen_kappa_score\n",
    ")\n",
    "\n",
    "import matplotlib.pyplot as plt\n",
    "from IPython.display import display\n",
    "\n",
    "# =========================\n",
    "#       CONFIG\n",
    "# =========================\n",
    "INPUT_SHAPE   = (13, 40, 1)\n",
    "BATCH_SIZE    = 128\n",
    "EPOCHS        = 20\n",
    "LEARNING_RATE = 1e-3\n",
    "SEED          = 42\n",
    "\n",
    "# ======= POINT THESE TO YOUR CLASS FOLDERS =======\n",
    "# Example (binary):\n",
    "CLASS_DIRS = [\n",
    "    (\"drone\",    r\"/home/destrox-907/Husnian_FYP/Dataset/MFCC Drone Dataset/MFCC Drone Dataset\"),\n",
    "    (\"no_drone\", r\"/home/destrox-907/Husnian_FYP/Dataset/MFCC Noise Dataset/MFCC Noise Dataset\"),\n",
    "]\n",
    "# Example (3-class): add more tuples, e.g. (\"membo\", \"…\"), (\"bebop\", \"…\"), (\"noise\", \"…\")\n",
    "\n",
    "# =========================\n",
    "#   PATHS & LABELS\n",
    "# =========================\n",
    "def collect_npy_paths(root_dir):\n",
    "    paths = []\n",
    "    for r, _, files in os.walk(root_dir):\n",
    "        for f in files:\n",
    "            if f.lower().endswith(\".npy\"):\n",
    "                paths.append(os.path.join(r, f))\n",
    "    return paths\n",
    "\n",
    "all_paths = []\n",
    "all_labels_str = []\n",
    "for label_name, folder in CLASS_DIRS:\n",
    "    p = collect_npy_paths(folder)\n",
    "    all_paths.extend(p)\n",
    "    all_labels_str.extend([label_name]*len(p))\n",
    "\n",
    "all_paths      = np.array(all_paths)\n",
    "all_labels_str = np.array(all_labels_str)\n",
    "print(f\"[INFO] Total files: {len(all_paths)}\")\n",
    "for lbl in sorted(set(all_labels_str)):\n",
    "    print(f\"  - {lbl}: {(all_labels_str==lbl).sum()}\")\n",
    "\n",
    "# Encode labels -> integers -> one-hot\n",
    "le = LabelEncoder()\n",
    "y_int = le.fit_transform(all_labels_str)\n",
    "num_classes = len(le.classes_)\n",
    "y_onehot = tf.keras.utils.to_categorical(y_int, num_classes=num_classes)\n",
    "\n",
    "# Stratified split\n",
    "X_train, X_test, y_train, y_test = train_test_split(\n",
    "    all_paths, y_onehot, test_size=0.2, random_state=SEED, stratify=y_int\n",
    ")\n",
    "\n",
    "print(f\"[INFO] Classes: {list(le.classes_)}  (num_classes={num_classes})\")\n",
    "print(f\"[INFO] Train: {len(X_train)} | Test: {len(X_test)}\")\n",
    "\n",
    "\n",
    "\n"
   ]
  },
  {
   "cell_type": "code",
   "execution_count": 2,
   "id": "7b305910",
   "metadata": {},
   "outputs": [
    {
     "name": "stderr",
     "output_type": "stream",
     "text": [
      "WARNING: All log messages before absl::InitializeLog() is called are written to STDERR\n",
      "I0000 00:00:1757560550.947407    5335 gpu_device.cc:2020] Created device /job:localhost/replica:0/task:0/device:GPU:0 with 21839 MB memory:  -> device: 0, name: NVIDIA GeForce RTX 4090, pci bus id: 0000:01:00.0, compute capability: 8.9\n",
      "I0000 00:00:1757560550.948705    5335 gpu_device.cc:2020] Created device /job:localhost/replica:0/task:0/device:GPU:1 with 22148 MB memory:  -> device: 1, name: NVIDIA GeForce RTX 4090, pci bus id: 0000:05:00.0, compute capability: 8.9\n"
     ]
    }
   ],
   "source": [
    "\n",
    "# =========================\n",
    "#   DATA PIPELINE (tf.data)\n",
    "# =========================\n",
    "def npy_loader(path):\n",
    "    \"\"\"Load one (13,40,1) MFCC tile from .npy path.\"\"\"\n",
    "    p = path.decode(\"utf-8\")\n",
    "    try:\n",
    "        arr = np.load(p)\n",
    "        arr = np.asarray(arr, dtype=\"float32\")\n",
    "        arr = arr.reshape(INPUT_SHAPE)  # enforce shape\n",
    "        return arr\n",
    "    except Exception as e:\n",
    "        print(f\"[WARN] Failed to load {p}: {e}\")\n",
    "        return np.zeros(INPUT_SHAPE, dtype=\"float32\")\n",
    "\n",
    "def tf_load(path, label):\n",
    "    x = tf.numpy_function(npy_loader, [path], Tout=tf.float32)\n",
    "    x = tf.ensure_shape(x, INPUT_SHAPE)\n",
    "    return x, label\n",
    "\n",
    "def make_dataset(paths, labels, batch=BATCH_SIZE, training=False):\n",
    "    ds = tf.data.Dataset.from_tensor_slices((paths, labels))\n",
    "    if training:\n",
    "        ds = ds.shuffle(8192, reshuffle_each_iteration=True, seed=SEED)\n",
    "    ds = ds.map(tf_load, num_parallel_calls=tf.data.AUTOTUNE)\n",
    "    ds = ds.batch(batch).prefetch(tf.data.AUTOTUNE)\n",
    "    return ds\n",
    "\n",
    "train_ds = make_dataset(X_train, y_train, training=True)\n",
    "test_ds  = make_dataset(X_test,  y_test,  training=False)"
   ]
  },
  {
   "cell_type": "code",
   "execution_count": 3,
   "id": "172e037a",
   "metadata": {},
   "outputs": [
    {
     "name": "stderr",
     "output_type": "stream",
     "text": [
      "/home/destrox-907/Husnian_FYP/.venv/lib/python3.11/site-packages/keras/src/layers/convolutional/base_conv.py:113: UserWarning: Do not pass an `input_shape`/`input_dim` argument to a layer. When using Sequential models, prefer using an `Input(shape)` object as the first layer in the model instead.\n",
      "  super().__init__(activity_regularizer=activity_regularizer, **kwargs)\n"
     ]
    },
    {
     "data": {
      "text/html": [
       "<pre style=\"white-space:pre;overflow-x:auto;line-height:normal;font-family:Menlo,'DejaVu Sans Mono',consolas,'Courier New',monospace\"><span style=\"font-weight: bold\">Model: \"sequential\"</span>\n",
       "</pre>\n"
      ],
      "text/plain": [
       "\u001b[1mModel: \"sequential\"\u001b[0m\n"
      ]
     },
     "metadata": {},
     "output_type": "display_data"
    },
    {
     "data": {
      "text/html": [
       "<pre style=\"white-space:pre;overflow-x:auto;line-height:normal;font-family:Menlo,'DejaVu Sans Mono',consolas,'Courier New',monospace\">┏━━━━━━━━━━━━━━━━━━━━━━━━━━━━━━━━━┳━━━━━━━━━━━━━━━━━━━━━━━━┳━━━━━━━━━━━━━━━┓\n",
       "┃<span style=\"font-weight: bold\"> Layer (type)                    </span>┃<span style=\"font-weight: bold\"> Output Shape           </span>┃<span style=\"font-weight: bold\">       Param # </span>┃\n",
       "┡━━━━━━━━━━━━━━━━━━━━━━━━━━━━━━━━━╇━━━━━━━━━━━━━━━━━━━━━━━━╇━━━━━━━━━━━━━━━┩\n",
       "│ conv2d (<span style=\"color: #0087ff; text-decoration-color: #0087ff\">Conv2D</span>)                 │ (<span style=\"color: #00d7ff; text-decoration-color: #00d7ff\">None</span>, <span style=\"color: #00af00; text-decoration-color: #00af00\">11</span>, <span style=\"color: #00af00; text-decoration-color: #00af00\">38</span>, <span style=\"color: #00af00; text-decoration-color: #00af00\">32</span>)     │           <span style=\"color: #00af00; text-decoration-color: #00af00\">320</span> │\n",
       "├─────────────────────────────────┼────────────────────────┼───────────────┤\n",
       "│ max_pooling2d (<span style=\"color: #0087ff; text-decoration-color: #0087ff\">MaxPooling2D</span>)    │ (<span style=\"color: #00d7ff; text-decoration-color: #00d7ff\">None</span>, <span style=\"color: #00af00; text-decoration-color: #00af00\">5</span>, <span style=\"color: #00af00; text-decoration-color: #00af00\">19</span>, <span style=\"color: #00af00; text-decoration-color: #00af00\">32</span>)      │             <span style=\"color: #00af00; text-decoration-color: #00af00\">0</span> │\n",
       "├─────────────────────────────────┼────────────────────────┼───────────────┤\n",
       "│ dropout (<span style=\"color: #0087ff; text-decoration-color: #0087ff\">Dropout</span>)               │ (<span style=\"color: #00d7ff; text-decoration-color: #00d7ff\">None</span>, <span style=\"color: #00af00; text-decoration-color: #00af00\">5</span>, <span style=\"color: #00af00; text-decoration-color: #00af00\">19</span>, <span style=\"color: #00af00; text-decoration-color: #00af00\">32</span>)      │             <span style=\"color: #00af00; text-decoration-color: #00af00\">0</span> │\n",
       "├─────────────────────────────────┼────────────────────────┼───────────────┤\n",
       "│ conv2d_1 (<span style=\"color: #0087ff; text-decoration-color: #0087ff\">Conv2D</span>)               │ (<span style=\"color: #00d7ff; text-decoration-color: #00d7ff\">None</span>, <span style=\"color: #00af00; text-decoration-color: #00af00\">3</span>, <span style=\"color: #00af00; text-decoration-color: #00af00\">17</span>, <span style=\"color: #00af00; text-decoration-color: #00af00\">64</span>)      │        <span style=\"color: #00af00; text-decoration-color: #00af00\">18,496</span> │\n",
       "├─────────────────────────────────┼────────────────────────┼───────────────┤\n",
       "│ max_pooling2d_1 (<span style=\"color: #0087ff; text-decoration-color: #0087ff\">MaxPooling2D</span>)  │ (<span style=\"color: #00d7ff; text-decoration-color: #00d7ff\">None</span>, <span style=\"color: #00af00; text-decoration-color: #00af00\">1</span>, <span style=\"color: #00af00; text-decoration-color: #00af00\">8</span>, <span style=\"color: #00af00; text-decoration-color: #00af00\">64</span>)       │             <span style=\"color: #00af00; text-decoration-color: #00af00\">0</span> │\n",
       "├─────────────────────────────────┼────────────────────────┼───────────────┤\n",
       "│ dropout_1 (<span style=\"color: #0087ff; text-decoration-color: #0087ff\">Dropout</span>)             │ (<span style=\"color: #00d7ff; text-decoration-color: #00d7ff\">None</span>, <span style=\"color: #00af00; text-decoration-color: #00af00\">1</span>, <span style=\"color: #00af00; text-decoration-color: #00af00\">8</span>, <span style=\"color: #00af00; text-decoration-color: #00af00\">64</span>)       │             <span style=\"color: #00af00; text-decoration-color: #00af00\">0</span> │\n",
       "├─────────────────────────────────┼────────────────────────┼───────────────┤\n",
       "│ flatten (<span style=\"color: #0087ff; text-decoration-color: #0087ff\">Flatten</span>)               │ (<span style=\"color: #00d7ff; text-decoration-color: #00d7ff\">None</span>, <span style=\"color: #00af00; text-decoration-color: #00af00\">512</span>)            │             <span style=\"color: #00af00; text-decoration-color: #00af00\">0</span> │\n",
       "├─────────────────────────────────┼────────────────────────┼───────────────┤\n",
       "│ dense (<span style=\"color: #0087ff; text-decoration-color: #0087ff\">Dense</span>)                   │ (<span style=\"color: #00d7ff; text-decoration-color: #00d7ff\">None</span>, <span style=\"color: #00af00; text-decoration-color: #00af00\">128</span>)            │        <span style=\"color: #00af00; text-decoration-color: #00af00\">65,664</span> │\n",
       "├─────────────────────────────────┼────────────────────────┼───────────────┤\n",
       "│ dropout_2 (<span style=\"color: #0087ff; text-decoration-color: #0087ff\">Dropout</span>)             │ (<span style=\"color: #00d7ff; text-decoration-color: #00d7ff\">None</span>, <span style=\"color: #00af00; text-decoration-color: #00af00\">128</span>)            │             <span style=\"color: #00af00; text-decoration-color: #00af00\">0</span> │\n",
       "├─────────────────────────────────┼────────────────────────┼───────────────┤\n",
       "│ dense_1 (<span style=\"color: #0087ff; text-decoration-color: #0087ff\">Dense</span>)                 │ (<span style=\"color: #00d7ff; text-decoration-color: #00d7ff\">None</span>, <span style=\"color: #00af00; text-decoration-color: #00af00\">2</span>)              │           <span style=\"color: #00af00; text-decoration-color: #00af00\">258</span> │\n",
       "└─────────────────────────────────┴────────────────────────┴───────────────┘\n",
       "</pre>\n"
      ],
      "text/plain": [
       "┏━━━━━━━━━━━━━━━━━━━━━━━━━━━━━━━━━┳━━━━━━━━━━━━━━━━━━━━━━━━┳━━━━━━━━━━━━━━━┓\n",
       "┃\u001b[1m \u001b[0m\u001b[1mLayer (type)                   \u001b[0m\u001b[1m \u001b[0m┃\u001b[1m \u001b[0m\u001b[1mOutput Shape          \u001b[0m\u001b[1m \u001b[0m┃\u001b[1m \u001b[0m\u001b[1m      Param #\u001b[0m\u001b[1m \u001b[0m┃\n",
       "┡━━━━━━━━━━━━━━━━━━━━━━━━━━━━━━━━━╇━━━━━━━━━━━━━━━━━━━━━━━━╇━━━━━━━━━━━━━━━┩\n",
       "│ conv2d (\u001b[38;5;33mConv2D\u001b[0m)                 │ (\u001b[38;5;45mNone\u001b[0m, \u001b[38;5;34m11\u001b[0m, \u001b[38;5;34m38\u001b[0m, \u001b[38;5;34m32\u001b[0m)     │           \u001b[38;5;34m320\u001b[0m │\n",
       "├─────────────────────────────────┼────────────────────────┼───────────────┤\n",
       "│ max_pooling2d (\u001b[38;5;33mMaxPooling2D\u001b[0m)    │ (\u001b[38;5;45mNone\u001b[0m, \u001b[38;5;34m5\u001b[0m, \u001b[38;5;34m19\u001b[0m, \u001b[38;5;34m32\u001b[0m)      │             \u001b[38;5;34m0\u001b[0m │\n",
       "├─────────────────────────────────┼────────────────────────┼───────────────┤\n",
       "│ dropout (\u001b[38;5;33mDropout\u001b[0m)               │ (\u001b[38;5;45mNone\u001b[0m, \u001b[38;5;34m5\u001b[0m, \u001b[38;5;34m19\u001b[0m, \u001b[38;5;34m32\u001b[0m)      │             \u001b[38;5;34m0\u001b[0m │\n",
       "├─────────────────────────────────┼────────────────────────┼───────────────┤\n",
       "│ conv2d_1 (\u001b[38;5;33mConv2D\u001b[0m)               │ (\u001b[38;5;45mNone\u001b[0m, \u001b[38;5;34m3\u001b[0m, \u001b[38;5;34m17\u001b[0m, \u001b[38;5;34m64\u001b[0m)      │        \u001b[38;5;34m18,496\u001b[0m │\n",
       "├─────────────────────────────────┼────────────────────────┼───────────────┤\n",
       "│ max_pooling2d_1 (\u001b[38;5;33mMaxPooling2D\u001b[0m)  │ (\u001b[38;5;45mNone\u001b[0m, \u001b[38;5;34m1\u001b[0m, \u001b[38;5;34m8\u001b[0m, \u001b[38;5;34m64\u001b[0m)       │             \u001b[38;5;34m0\u001b[0m │\n",
       "├─────────────────────────────────┼────────────────────────┼───────────────┤\n",
       "│ dropout_1 (\u001b[38;5;33mDropout\u001b[0m)             │ (\u001b[38;5;45mNone\u001b[0m, \u001b[38;5;34m1\u001b[0m, \u001b[38;5;34m8\u001b[0m, \u001b[38;5;34m64\u001b[0m)       │             \u001b[38;5;34m0\u001b[0m │\n",
       "├─────────────────────────────────┼────────────────────────┼───────────────┤\n",
       "│ flatten (\u001b[38;5;33mFlatten\u001b[0m)               │ (\u001b[38;5;45mNone\u001b[0m, \u001b[38;5;34m512\u001b[0m)            │             \u001b[38;5;34m0\u001b[0m │\n",
       "├─────────────────────────────────┼────────────────────────┼───────────────┤\n",
       "│ dense (\u001b[38;5;33mDense\u001b[0m)                   │ (\u001b[38;5;45mNone\u001b[0m, \u001b[38;5;34m128\u001b[0m)            │        \u001b[38;5;34m65,664\u001b[0m │\n",
       "├─────────────────────────────────┼────────────────────────┼───────────────┤\n",
       "│ dropout_2 (\u001b[38;5;33mDropout\u001b[0m)             │ (\u001b[38;5;45mNone\u001b[0m, \u001b[38;5;34m128\u001b[0m)            │             \u001b[38;5;34m0\u001b[0m │\n",
       "├─────────────────────────────────┼────────────────────────┼───────────────┤\n",
       "│ dense_1 (\u001b[38;5;33mDense\u001b[0m)                 │ (\u001b[38;5;45mNone\u001b[0m, \u001b[38;5;34m2\u001b[0m)              │           \u001b[38;5;34m258\u001b[0m │\n",
       "└─────────────────────────────────┴────────────────────────┴───────────────┘\n"
      ]
     },
     "metadata": {},
     "output_type": "display_data"
    },
    {
     "data": {
      "text/html": [
       "<pre style=\"white-space:pre;overflow-x:auto;line-height:normal;font-family:Menlo,'DejaVu Sans Mono',consolas,'Courier New',monospace\"><span style=\"font-weight: bold\"> Total params: </span><span style=\"color: #00af00; text-decoration-color: #00af00\">84,738</span> (331.01 KB)\n",
       "</pre>\n"
      ],
      "text/plain": [
       "\u001b[1m Total params: \u001b[0m\u001b[38;5;34m84,738\u001b[0m (331.01 KB)\n"
      ]
     },
     "metadata": {},
     "output_type": "display_data"
    },
    {
     "data": {
      "text/html": [
       "<pre style=\"white-space:pre;overflow-x:auto;line-height:normal;font-family:Menlo,'DejaVu Sans Mono',consolas,'Courier New',monospace\"><span style=\"font-weight: bold\"> Trainable params: </span><span style=\"color: #00af00; text-decoration-color: #00af00\">84,738</span> (331.01 KB)\n",
       "</pre>\n"
      ],
      "text/plain": [
       "\u001b[1m Trainable params: \u001b[0m\u001b[38;5;34m84,738\u001b[0m (331.01 KB)\n"
      ]
     },
     "metadata": {},
     "output_type": "display_data"
    },
    {
     "data": {
      "text/html": [
       "<pre style=\"white-space:pre;overflow-x:auto;line-height:normal;font-family:Menlo,'DejaVu Sans Mono',consolas,'Courier New',monospace\"><span style=\"font-weight: bold\"> Non-trainable params: </span><span style=\"color: #00af00; text-decoration-color: #00af00\">0</span> (0.00 B)\n",
       "</pre>\n"
      ],
      "text/plain": [
       "\u001b[1m Non-trainable params: \u001b[0m\u001b[38;5;34m0\u001b[0m (0.00 B)\n"
      ]
     },
     "metadata": {},
     "output_type": "display_data"
    },
    {
     "name": "stdout",
     "output_type": "stream",
     "text": [
      "Epoch 1/20\n"
     ]
    },
    {
     "name": "stderr",
     "output_type": "stream",
     "text": [
      "2025-09-11 08:15:54.728447: I external/local_xla/xla/service/service.cc:163] XLA service 0x748ee801d440 initialized for platform CUDA (this does not guarantee that XLA will be used). Devices:\n",
      "2025-09-11 08:15:54.728460: I external/local_xla/xla/service/service.cc:171]   StreamExecutor device (0): NVIDIA GeForce RTX 4090, Compute Capability 8.9\n",
      "2025-09-11 08:15:54.728462: I external/local_xla/xla/service/service.cc:171]   StreamExecutor device (1): NVIDIA GeForce RTX 4090, Compute Capability 8.9\n",
      "2025-09-11 08:15:54.777281: I tensorflow/compiler/mlir/tensorflow/utils/dump_mlir_util.cc:269] disabling MLIR crash reproducer, set env var `MLIR_CRASH_REPRODUCER_DIRECTORY` to enable.\n",
      "2025-09-11 08:15:54.883256: I external/local_xla/xla/stream_executor/cuda/cuda_dnn.cc:473] Loaded cuDNN version 91002\n",
      "2025-09-11 08:15:54.972242: I external/local_xla/xla/service/gpu/autotuning/dot_search_space.cc:208] All configs were filtered out because none of them sufficiently match the hints. Maybe the hints set does not contain a good representative set of valid configs? Working around this by using the full hints set instead.\n",
      "2025-09-11 08:15:54.972270: I external/local_xla/xla/service/gpu/autotuning/dot_search_space.cc:208] All configs were filtered out because none of them sufficiently match the hints. Maybe the hints set does not contain a good representative set of valid configs? Working around this by using the full hints set instead.\n",
      "2025-09-11 08:15:55.403982: I external/local_xla/xla/stream_executor/cuda/subprocess_compilation.cc:346] ptxas warning : Registers are spilled to local memory in function 'gemm_fusion_dot_1691', 64 bytes spill stores, 64 bytes spill loads\n",
      "\n"
     ]
    },
    {
     "name": "stdout",
     "output_type": "stream",
     "text": [
      "\u001b[1m  15/2444\u001b[0m \u001b[37m━━━━━━━━━━━━━━━━━━━━\u001b[0m \u001b[1m32s\u001b[0m 13ms/step - accuracy: 0.6089 - loss: 6.0289"
     ]
    },
    {
     "name": "stderr",
     "output_type": "stream",
     "text": [
      "I0000 00:00:1757560557.110291    6091 device_compiler.h:196] Compiled cluster using XLA!  This line is logged at most once for the lifetime of the process.\n"
     ]
    },
    {
     "name": "stdout",
     "output_type": "stream",
     "text": [
      "\u001b[1m2444/2444\u001b[0m \u001b[32m━━━━━━━━━━━━━━━━━━━━\u001b[0m\u001b[37m\u001b[0m \u001b[1m0s\u001b[0m 16ms/step - accuracy: 0.8573 - loss: 0.5032"
     ]
    },
    {
     "name": "stderr",
     "output_type": "stream",
     "text": [
      "2025-09-11 08:16:46.109149: I external/local_xla/xla/service/gpu/autotuning/dot_search_space.cc:208] All configs were filtered out because none of them sufficiently match the hints. Maybe the hints set does not contain a good representative set of valid configs? Working around this by using the full hints set instead.\n",
      "2025-09-11 08:16:46.299191: I external/local_xla/xla/stream_executor/cuda/subprocess_compilation.cc:346] ptxas warning : Registers are spilled to local memory in function 'gemm_fusion_dot_126', 12 bytes spill stores, 12 bytes spill loads\n",
      "\n",
      "2025-09-11 08:16:46.308347: I external/local_xla/xla/stream_executor/cuda/subprocess_compilation.cc:346] ptxas warning : Registers are spilled to local memory in function 'gemm_fusion_dot_126', 12 bytes spill stores, 12 bytes spill loads\n",
      "\n",
      "2025-09-11 08:16:46.377392: I external/local_xla/xla/stream_executor/cuda/subprocess_compilation.cc:346] ptxas warning : Registers are spilled to local memory in function 'gemm_fusion_dot_126', 16 bytes spill stores, 16 bytes spill loads\n",
      "\n",
      "2025-09-11 08:16:46.498843: I external/local_xla/xla/stream_executor/cuda/subprocess_compilation.cc:346] ptxas warning : Registers are spilled to local memory in function 'gemm_fusion_dot_126', 60 bytes spill stores, 60 bytes spill loads\n",
      "\n"
     ]
    },
    {
     "name": "stdout",
     "output_type": "stream",
     "text": [
      "\u001b[1m2444/2444\u001b[0m \u001b[32m━━━━━━━━━━━━━━━━━━━━\u001b[0m\u001b[37m\u001b[0m \u001b[1m53s\u001b[0m 20ms/step - accuracy: 0.9037 - loss: 0.2500 - val_accuracy: 0.9484 - val_loss: 0.1256\n",
      "Epoch 2/20\n",
      "\u001b[1m2444/2444\u001b[0m \u001b[32m━━━━━━━━━━━━━━━━━━━━\u001b[0m\u001b[37m\u001b[0m \u001b[1m45s\u001b[0m 19ms/step - accuracy: 0.9489 - loss: 0.1271 - val_accuracy: 0.9642 - val_loss: 0.0974\n",
      "Epoch 3/20\n",
      "\u001b[1m2444/2444\u001b[0m \u001b[32m━━━━━━━━━━━━━━━━━━━━\u001b[0m\u001b[37m\u001b[0m \u001b[1m44s\u001b[0m 18ms/step - accuracy: 0.9580 - loss: 0.1069 - val_accuracy: 0.9706 - val_loss: 0.0812\n",
      "Epoch 4/20\n",
      "\u001b[1m2444/2444\u001b[0m \u001b[32m━━━━━━━━━━━━━━━━━━━━\u001b[0m\u001b[37m\u001b[0m \u001b[1m46s\u001b[0m 19ms/step - accuracy: 0.9627 - loss: 0.0964 - val_accuracy: 0.9764 - val_loss: 0.0638\n",
      "Epoch 5/20\n",
      "\u001b[1m2444/2444\u001b[0m \u001b[32m━━━━━━━━━━━━━━━━━━━━\u001b[0m\u001b[37m\u001b[0m \u001b[1m47s\u001b[0m 19ms/step - accuracy: 0.9665 - loss: 0.0883 - val_accuracy: 0.9779 - val_loss: 0.0602\n",
      "Epoch 6/20\n",
      "\u001b[1m2444/2444\u001b[0m \u001b[32m━━━━━━━━━━━━━━━━━━━━\u001b[0m\u001b[37m\u001b[0m \u001b[1m46s\u001b[0m 19ms/step - accuracy: 0.9686 - loss: 0.0837 - val_accuracy: 0.9731 - val_loss: 0.0717\n",
      "Epoch 7/20\n",
      "\u001b[1m2444/2444\u001b[0m \u001b[32m━━━━━━━━━━━━━━━━━━━━\u001b[0m\u001b[37m\u001b[0m \u001b[1m45s\u001b[0m 19ms/step - accuracy: 0.9697 - loss: 0.0802 - val_accuracy: 0.9790 - val_loss: 0.0565\n",
      "Epoch 8/20\n",
      "\u001b[1m2444/2444\u001b[0m \u001b[32m━━━━━━━━━━━━━━━━━━━━\u001b[0m\u001b[37m\u001b[0m \u001b[1m47s\u001b[0m 19ms/step - accuracy: 0.9711 - loss: 0.0771 - val_accuracy: 0.9797 - val_loss: 0.0573\n",
      "Epoch 9/20\n",
      "\u001b[1m2444/2444\u001b[0m \u001b[32m━━━━━━━━━━━━━━━━━━━━\u001b[0m\u001b[37m\u001b[0m \u001b[1m46s\u001b[0m 19ms/step - accuracy: 0.9718 - loss: 0.0755 - val_accuracy: 0.9812 - val_loss: 0.0534\n",
      "Epoch 10/20\n",
      "\u001b[1m2444/2444\u001b[0m \u001b[32m━━━━━━━━━━━━━━━━━━━━\u001b[0m\u001b[37m\u001b[0m \u001b[1m47s\u001b[0m 19ms/step - accuracy: 0.9727 - loss: 0.0741 - val_accuracy: 0.9794 - val_loss: 0.0551\n",
      "Epoch 11/20\n",
      "\u001b[1m2444/2444\u001b[0m \u001b[32m━━━━━━━━━━━━━━━━━━━━\u001b[0m\u001b[37m\u001b[0m \u001b[1m44s\u001b[0m 18ms/step - accuracy: 0.9733 - loss: 0.0724 - val_accuracy: 0.9809 - val_loss: 0.0534\n",
      "Epoch 12/20\n",
      "\u001b[1m2444/2444\u001b[0m \u001b[32m━━━━━━━━━━━━━━━━━━━━\u001b[0m\u001b[37m\u001b[0m \u001b[1m45s\u001b[0m 18ms/step - accuracy: 0.9745 - loss: 0.0696 - val_accuracy: 0.9823 - val_loss: 0.0488\n",
      "Epoch 13/20\n",
      "\u001b[1m2444/2444\u001b[0m \u001b[32m━━━━━━━━━━━━━━━━━━━━\u001b[0m\u001b[37m\u001b[0m \u001b[1m44s\u001b[0m 18ms/step - accuracy: 0.9746 - loss: 0.0698 - val_accuracy: 0.9821 - val_loss: 0.0491\n",
      "Epoch 14/20\n",
      "\u001b[1m2444/2444\u001b[0m \u001b[32m━━━━━━━━━━━━━━━━━━━━\u001b[0m\u001b[37m\u001b[0m \u001b[1m44s\u001b[0m 18ms/step - accuracy: 0.9747 - loss: 0.0693 - val_accuracy: 0.9821 - val_loss: 0.0482\n",
      "Epoch 15/20\n",
      "\u001b[1m2444/2444\u001b[0m \u001b[32m━━━━━━━━━━━━━━━━━━━━\u001b[0m\u001b[37m\u001b[0m \u001b[1m45s\u001b[0m 18ms/step - accuracy: 0.9746 - loss: 0.0692 - val_accuracy: 0.9811 - val_loss: 0.0517\n",
      "Epoch 16/20\n",
      "\u001b[1m2444/2444\u001b[0m \u001b[32m━━━━━━━━━━━━━━━━━━━━\u001b[0m\u001b[37m\u001b[0m \u001b[1m44s\u001b[0m 18ms/step - accuracy: 0.9756 - loss: 0.0673 - val_accuracy: 0.9814 - val_loss: 0.0524\n",
      "Epoch 17/20\n",
      "\u001b[1m2444/2444\u001b[0m \u001b[32m━━━━━━━━━━━━━━━━━━━━\u001b[0m\u001b[37m\u001b[0m \u001b[1m45s\u001b[0m 18ms/step - accuracy: 0.9760 - loss: 0.0671 - val_accuracy: 0.9812 - val_loss: 0.0519\n",
      "Epoch 18/20\n",
      "\u001b[1m2444/2444\u001b[0m \u001b[32m━━━━━━━━━━━━━━━━━━━━\u001b[0m\u001b[37m\u001b[0m \u001b[1m45s\u001b[0m 18ms/step - accuracy: 0.9761 - loss: 0.0657 - val_accuracy: 0.9821 - val_loss: 0.0541\n",
      "Epoch 19/20\n",
      "\u001b[1m2444/2444\u001b[0m \u001b[32m━━━━━━━━━━━━━━━━━━━━\u001b[0m\u001b[37m\u001b[0m \u001b[1m45s\u001b[0m 18ms/step - accuracy: 0.9764 - loss: 0.0651 - val_accuracy: 0.9845 - val_loss: 0.0441\n",
      "Epoch 20/20\n",
      "\u001b[1m2444/2444\u001b[0m \u001b[32m━━━━━━━━━━━━━━━━━━━━\u001b[0m\u001b[37m\u001b[0m \u001b[1m45s\u001b[0m 18ms/step - accuracy: 0.9764 - loss: 0.0647 - val_accuracy: 0.9826 - val_loss: 0.0490\n",
      "\n",
      "CNN Test Accuracy: 0.9826\n"
     ]
    }
   ],
   "source": [
    "# =========================\n",
    "#   SAME CNN AS BEFORE\n",
    "# =========================\n",
    "from tensorflow.keras import Sequential\n",
    "from tensorflow.keras.layers import Conv2D, MaxPooling2D, Dropout, Flatten, Dense\n",
    "from tensorflow.keras.optimizers import Adam\n",
    "\n",
    "cnn_model = Sequential([\n",
    "    Conv2D(32, (3, 3), activation=\"relu\", input_shape=INPUT_SHAPE),\n",
    "    MaxPooling2D((2, 2)),\n",
    "    Dropout(0.3),\n",
    "\n",
    "    Conv2D(64, (3, 3), activation=\"relu\"),\n",
    "    MaxPooling2D((2, 2)),\n",
    "    Dropout(0.3),\n",
    "\n",
    "    Flatten(),\n",
    "    Dense(128, activation=\"relu\"),\n",
    "    Dropout(0.3),\n",
    "    Dense(num_classes, activation=\"softmax\"),\n",
    "])\n",
    "\n",
    "cnn_model.compile(optimizer=Adam(learning_rate=LEARNING_RATE),\n",
    "                  loss=\"categorical_crossentropy\",\n",
    "                  metrics=[\"accuracy\"])\n",
    "\n",
    "cnn_model.summary()\n",
    "\n",
    "# =========================\n",
    "#       TRAIN & EVAL\n",
    "# =========================\n",
    "history = cnn_model.fit(\n",
    "    train_ds,\n",
    "    validation_data=test_ds,\n",
    "    epochs=EPOCHS\n",
    ")\n",
    "\n",
    "test_loss, test_acc = cnn_model.evaluate(test_ds, verbose=0)\n",
    "print(f\"\\nCNN Test Accuracy: {test_acc:.4f}\")"
   ]
  },
  {
   "cell_type": "code",
   "execution_count": 4,
   "id": "2463e6f8",
   "metadata": {},
   "outputs": [],
   "source": [
    "cnn_model.save(\"cnn_orignal_data02.keras\")"
   ]
  },
  {
   "cell_type": "code",
   "execution_count": 5,
   "id": "28288bcc",
   "metadata": {},
   "outputs": [
    {
     "name": "stderr",
     "output_type": "stream",
     "text": [
      "2025-09-11 08:31:37.394258: I tensorflow/core/framework/local_rendezvous.cc:407] Local rendezvous is aborting with status: OUT_OF_RANGE: End of sequence\n"
     ]
    },
    {
     "name": "stdout",
     "output_type": "stream",
     "text": [
      "\u001b[1m611/611\u001b[0m \u001b[32m━━━━━━━━━━━━━━━━━━━━\u001b[0m\u001b[37m\u001b[0m \u001b[1m9s\u001b[0m 14ms/step\n"
     ]
    },
    {
     "data": {
      "image/png": "[encoded data removed]",
      "text/plain": [
       "<Figure size 840x700 with 1 Axes>"
      ]
     },
     "metadata": {},
     "output_type": "display_data"
    },
    {
     "name": "stdout",
     "output_type": "stream",
     "text": [
      "Confusion Matrix (rows=true, cols=pred):\n",
      "[[52695   959]\n",
      " [  398 24128]]\n",
      "\n",
      "Classification Report (argmax):\n",
      "              precision    recall  f1-score   support\n",
      "\n",
      "       drone       0.99      0.98      0.99     53654\n",
      "    no_drone       0.96      0.98      0.97     24526\n",
      "\n",
      "    accuracy                           0.98     78180\n",
      "   macro avg       0.98      0.98      0.98     78180\n",
      "weighted avg       0.98      0.98      0.98     78180\n",
      "\n",
      "\n",
      "=== Summary (argmax) ===\n",
      "Accuracy                : 0.9826\n",
      "Balanced Accuracy       : 0.9829\n",
      "Precision/Recall/F1 (micro)   : 0.9826 / 0.9826 / 0.9826\n",
      "Precision/Recall/F1 (macro)   : 0.9771 / 0.9829 / 0.9800\n",
      "Precision/Recall/F1 (weighted): 0.9829 / 0.9826 / 0.9827\n",
      "MCC                      : 0.9601\n",
      "Cohen's kappa            : 0.9599\n"
     ]
    }
   ],
   "source": [
    "# =========================\n",
    "#  PREDICT & METRICS (“Everything”)\n",
    "# =========================\n",
    "# Ground truth (int labels) for metrics\n",
    "y_true_int = np.argmax(np.vstack([y for _, y in test_ds.unbatch()]), axis=1)\n",
    "\n",
    "# Predicted probabilities & labels\n",
    "probs = cnn_model.predict(test_ds, verbose=1)  # shape: (N, num_classes)\n",
    "y_pred_int_argmax = np.argmax(probs, axis=1)\n",
    "\n",
    "# ---- Confusion Matrix (argmax) ----\n",
    "def plot_cm_inline(y_true, y_pred, classes, title=\"Confusion Matrix\"):\n",
    "    cm = confusion_matrix(y_true, y_pred, labels=range(len(classes)))\n",
    "    fig, ax = plt.subplots(figsize=(6, 5), dpi=140)\n",
    "    disp = ConfusionMatrixDisplay(confusion_matrix=cm, display_labels=classes)\n",
    "    disp.plot(cmap=\"Blues\", values_format=\"d\", ax=ax, colorbar=False)\n",
    "    ax.set_title(title)\n",
    "    ax.set_xlabel(\"Predicted label\")\n",
    "    ax.set_ylabel(\"True label\")\n",
    "    plt.tight_layout()\n",
    "    display(fig)\n",
    "    plt.close(fig)\n",
    "    return cm\n",
    "\n",
    "cm_argmax = plot_cm_inline(y_true_int, y_pred_int_argmax, le.classes_,\n",
    "                           title=\"Confusion Matrix (argmax)\")\n",
    "\n",
    "print(\"Confusion Matrix (rows=true, cols=pred):\")\n",
    "print(cm_argmax)\n",
    "print(\"\\nClassification Report (argmax):\")\n",
    "print(classification_report(y_true_int, y_pred_int_argmax, target_names=le.classes_))\n",
    "\n",
    "# ---- Scalar metrics from argmax predictions ----\n",
    "acc   = accuracy_score(y_true_int, y_pred_int_argmax)\n",
    "prec_micro  = precision_score(y_true_int, y_pred_int_argmax, average=\"micro\", zero_division=0)\n",
    "rec_micro   = recall_score(y_true_int,    y_pred_int_argmax, average=\"micro\", zero_division=0)\n",
    "f1_micro    = f1_score(y_true_int,       y_pred_int_argmax, average=\"micro\", zero_division=0)\n",
    "\n",
    "prec_macro  = precision_score(y_true_int, y_pred_int_argmax, average=\"macro\", zero_division=0)\n",
    "rec_macro   = recall_score(y_true_int,    y_pred_int_argmax, average=\"macro\", zero_division=0)\n",
    "f1_macro    = f1_score(y_true_int,       y_pred_int_argmax, average=\"macro\", zero_division=0)\n",
    "\n",
    "prec_weight = precision_score(y_true_int, y_pred_int_argmax, average=\"weighted\", zero_division=0)\n",
    "rec_weight  = recall_score(y_true_int,    y_pred_int_argmax, average=\"weighted\", zero_division=0)\n",
    "f1_weight   = f1_score(y_true_int,       y_pred_int_argmax, average=\"weighted\", zero_division=0)\n",
    "\n",
    "bal_acc     = balanced_accuracy_score(y_true_int, y_pred_int_argmax)\n",
    "mcc         = matthews_corrcoef(y_true_int, y_pred_int_argmax)\n",
    "kappa       = cohen_kappa_score(y_true_int, y_pred_int_argmax)\n",
    "\n",
    "print(\"\\n=== Summary (argmax) ===\")\n",
    "print(f\"Accuracy                : {acc:.4f}\")\n",
    "print(f\"Balanced Accuracy       : {bal_acc:.4f}\")\n",
    "print(f\"Precision/Recall/F1 (micro)   : {prec_micro:.4f} / {rec_micro:.4f} / {f1_micro:.4f}\")\n",
    "print(f\"Precision/Recall/F1 (macro)   : {prec_macro:.4f} / {rec_macro:.4f} / {f1_macro:.4f}\")\n",
    "print(f\"Precision/Recall/F1 (weighted): {prec_weight:.4f} / {rec_weight:.4f} / {f1_weight:.4f}\")\n",
    "print(f\"MCC                      : {mcc:.4f}\")\n",
    "print(f\"Cohen's kappa            : {kappa:.4f}\")\n"
   ]
  }
 ],
 "metadata": {
  "kernelspec": {
   "display_name": ".venv",
   "language": "python",
   "name": "python3"
  },
  "language_info": {
   "codemirror_mode": {
    "name": "ipython",
    "version": 3
   },
   "file_extension": ".py",
   "mimetype": "text/x-python",
   "name": "python",
   "nbconvert_exporter": "python",
   "pygments_lexer": "ipython3",
   "version": "3.11.8"
  }
 },
 "nbformat": 4,
 "nbformat_minor": 5
}
